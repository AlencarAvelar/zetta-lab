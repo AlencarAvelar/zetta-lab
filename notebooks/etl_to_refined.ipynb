{
 "cells": [
  {
   "cell_type": "markdown",
   "id": "33a3b5ef",
   "metadata": {},
   "source": [
    "# Exploração para identificar inconsistencias na base de dados e refinamento "
   ]
  },
  {
   "cell_type": "code",
   "execution_count": 2,
   "id": "981d2d3c",
   "metadata": {},
   "outputs": [],
   "source": [
    "import pandas as pd "
   ]
  },
  {
   "cell_type": "code",
   "execution_count": 3,
   "id": "d6f0ccf5",
   "metadata": {},
   "outputs": [
    {
     "data": {
      "application/vnd.microsoft.datawrangler.viewer.v0+json": {
       "columns": [
        {
         "name": "index",
         "rawType": "int64",
         "type": "integer"
        },
        {
         "name": "Cod_ID",
         "rawType": "int64",
         "type": "integer"
        },
        {
         "name": "NOME_UDH",
         "rawType": "object",
         "type": "string"
        },
        {
         "name": "NOME_MUN",
         "rawType": "object",
         "type": "string"
        },
        {
         "name": "IDHM",
         "rawType": "float64",
         "type": "float"
        },
        {
         "name": "IDHM_E",
         "rawType": "float64",
         "type": "float"
        },
        {
         "name": "IDHM_R",
         "rawType": "float64",
         "type": "float"
        },
        {
         "name": "IDHM_L",
         "rawType": "float64",
         "type": "float"
        },
        {
         "name": "E_ANOSESTUDO",
         "rawType": "float64",
         "type": "float"
        },
        {
         "name": "I_ESCOLARIDADE",
         "rawType": "float64",
         "type": "float"
        },
        {
         "name": "I_FREQ_PROP",
         "rawType": "float64",
         "type": "float"
        },
        {
         "name": "GINI",
         "rawType": "float64",
         "type": "float"
        },
        {
         "name": "CPR",
         "rawType": "float64",
         "type": "float"
        }
       ],
       "ref": "c23e7ddb-a202-4920-bed6-e8c873100d5d",
       "rows": [
        [
         "0",
         "1310500000001",
         "Baldim",
         "Baldim (MG)",
         "0.592",
         "0.459",
         "0.591",
         "0.766",
         "9.69",
         "0.277",
         "0.591",
         "0.52",
         "26.43"
        ],
        [
         "1",
         "1310620001001",
         "Lindéia / Jatobá",
         "Belo Horizonte (MG)",
         "0.664",
         "0.565",
         "0.654",
         "0.791",
         "10.48",
         "0.43",
         "0.648",
         "0.4",
         "21.07"
        ],
        [
         "2",
         "1310620001002",
         "Solar do Barreiro : Corumbiara",
         "Belo Horizonte (MG)",
         "0.582",
         "0.43",
         "0.609",
         "0.751",
         "9.27",
         "0.332",
         "0.49",
         "0.44",
         "22.33"
        ],
        [
         "3",
         "1310620001003",
         "Bonsucesso : Novo das Indústrias / São João",
         "Belo Horizonte (MG)",
         "0.529",
         "0.358",
         "0.57",
         "0.725",
         "7.95",
         "0.23",
         "0.447",
         "0.41",
         "16.19"
        ],
        [
         "4",
         "1310620001004",
         "Vila Olhos d'Água",
         "Belo Horizonte (MG)",
         "0.531",
         "0.39",
         "0.553",
         "0.693",
         "8.55",
         "0.28",
         "0.461",
         "0.4",
         "16.99"
        ]
       ],
       "shape": {
        "columns": 12,
        "rows": 5
       }
      },
      "text/html": [
       "<div>\n",
       "<style scoped>\n",
       "    .dataframe tbody tr th:only-of-type {\n",
       "        vertical-align: middle;\n",
       "    }\n",
       "\n",
       "    .dataframe tbody tr th {\n",
       "        vertical-align: top;\n",
       "    }\n",
       "\n",
       "    .dataframe thead th {\n",
       "        text-align: right;\n",
       "    }\n",
       "</style>\n",
       "<table border=\"1\" class=\"dataframe\">\n",
       "  <thead>\n",
       "    <tr style=\"text-align: right;\">\n",
       "      <th></th>\n",
       "      <th>Cod_ID</th>\n",
       "      <th>NOME_UDH</th>\n",
       "      <th>NOME_MUN</th>\n",
       "      <th>IDHM</th>\n",
       "      <th>IDHM_E</th>\n",
       "      <th>IDHM_R</th>\n",
       "      <th>IDHM_L</th>\n",
       "      <th>E_ANOSESTUDO</th>\n",
       "      <th>I_ESCOLARIDADE</th>\n",
       "      <th>I_FREQ_PROP</th>\n",
       "      <th>GINI</th>\n",
       "      <th>CPR</th>\n",
       "    </tr>\n",
       "  </thead>\n",
       "  <tbody>\n",
       "    <tr>\n",
       "      <th>0</th>\n",
       "      <td>1310500000001</td>\n",
       "      <td>Baldim</td>\n",
       "      <td>Baldim (MG)</td>\n",
       "      <td>0.592</td>\n",
       "      <td>0.459</td>\n",
       "      <td>0.591</td>\n",
       "      <td>0.766</td>\n",
       "      <td>9.69</td>\n",
       "      <td>0.277</td>\n",
       "      <td>0.591</td>\n",
       "      <td>0.52</td>\n",
       "      <td>26.43</td>\n",
       "    </tr>\n",
       "    <tr>\n",
       "      <th>1</th>\n",
       "      <td>1310620001001</td>\n",
       "      <td>Lindéia / Jatobá</td>\n",
       "      <td>Belo Horizonte (MG)</td>\n",
       "      <td>0.664</td>\n",
       "      <td>0.565</td>\n",
       "      <td>0.654</td>\n",
       "      <td>0.791</td>\n",
       "      <td>10.48</td>\n",
       "      <td>0.430</td>\n",
       "      <td>0.648</td>\n",
       "      <td>0.40</td>\n",
       "      <td>21.07</td>\n",
       "    </tr>\n",
       "    <tr>\n",
       "      <th>2</th>\n",
       "      <td>1310620001002</td>\n",
       "      <td>Solar do Barreiro : Corumbiara</td>\n",
       "      <td>Belo Horizonte (MG)</td>\n",
       "      <td>0.582</td>\n",
       "      <td>0.430</td>\n",
       "      <td>0.609</td>\n",
       "      <td>0.751</td>\n",
       "      <td>9.27</td>\n",
       "      <td>0.332</td>\n",
       "      <td>0.490</td>\n",
       "      <td>0.44</td>\n",
       "      <td>22.33</td>\n",
       "    </tr>\n",
       "    <tr>\n",
       "      <th>3</th>\n",
       "      <td>1310620001003</td>\n",
       "      <td>Bonsucesso : Novo das Indústrias / São João</td>\n",
       "      <td>Belo Horizonte (MG)</td>\n",
       "      <td>0.529</td>\n",
       "      <td>0.358</td>\n",
       "      <td>0.570</td>\n",
       "      <td>0.725</td>\n",
       "      <td>7.95</td>\n",
       "      <td>0.230</td>\n",
       "      <td>0.447</td>\n",
       "      <td>0.41</td>\n",
       "      <td>16.19</td>\n",
       "    </tr>\n",
       "    <tr>\n",
       "      <th>4</th>\n",
       "      <td>1310620001004</td>\n",
       "      <td>Vila Olhos d'Água</td>\n",
       "      <td>Belo Horizonte (MG)</td>\n",
       "      <td>0.531</td>\n",
       "      <td>0.390</td>\n",
       "      <td>0.553</td>\n",
       "      <td>0.693</td>\n",
       "      <td>8.55</td>\n",
       "      <td>0.280</td>\n",
       "      <td>0.461</td>\n",
       "      <td>0.40</td>\n",
       "      <td>16.99</td>\n",
       "    </tr>\n",
       "  </tbody>\n",
       "</table>\n",
       "</div>"
      ],
      "text/plain": [
       "          Cod_ID                                     NOME_UDH  \\\n",
       "0  1310500000001                                       Baldim   \n",
       "1  1310620001001                             Lindéia / Jatobá   \n",
       "2  1310620001002               Solar do Barreiro : Corumbiara   \n",
       "3  1310620001003  Bonsucesso : Novo das Indústrias / São João   \n",
       "4  1310620001004                            Vila Olhos d'Água   \n",
       "\n",
       "              NOME_MUN   IDHM  IDHM_E  IDHM_R  IDHM_L  E_ANOSESTUDO  \\\n",
       "0          Baldim (MG)  0.592   0.459   0.591   0.766          9.69   \n",
       "1  Belo Horizonte (MG)  0.664   0.565   0.654   0.791         10.48   \n",
       "2  Belo Horizonte (MG)  0.582   0.430   0.609   0.751          9.27   \n",
       "3  Belo Horizonte (MG)  0.529   0.358   0.570   0.725          7.95   \n",
       "4  Belo Horizonte (MG)  0.531   0.390   0.553   0.693          8.55   \n",
       "\n",
       "   I_ESCOLARIDADE  I_FREQ_PROP  GINI    CPR  \n",
       "0           0.277        0.591  0.52  26.43  \n",
       "1           0.430        0.648  0.40  21.07  \n",
       "2           0.332        0.490  0.44  22.33  \n",
       "3           0.230        0.447  0.41  16.19  \n",
       "4           0.280        0.461  0.40  16.99  "
      ]
     },
     "execution_count": 3,
     "metadata": {},
     "output_type": "execute_result"
    }
   ],
   "source": [
    "path_trusted = \"/home/alencaravelar/Desktop/zetta-lab/zetta-lab/data/trusted/base_udh_trusted.csv\"\n",
    "\n",
    "df = pd.read_csv(path_trusted)\n",
    "\n",
    "df.head()"
   ]
  },
  {
   "cell_type": "markdown",
   "id": "034eb956",
   "metadata": {},
   "source": [
    "### Verificando(mias uma vez ) se os atributos selecionados foram salvos corretamente na nova base de dados."
   ]
  },
  {
   "cell_type": "code",
   "execution_count": 4,
   "id": "055f4af6",
   "metadata": {},
   "outputs": [
    {
     "data": {
      "text/plain": [
       "Index(['Cod_ID', 'NOME_UDH', 'NOME_MUN', 'IDHM', 'IDHM_E', 'IDHM_R', 'IDHM_L',\n",
       "       'E_ANOSESTUDO', 'I_ESCOLARIDADE', 'I_FREQ_PROP', 'GINI', 'CPR'],\n",
       "      dtype='object')"
      ]
     },
     "execution_count": 4,
     "metadata": {},
     "output_type": "execute_result"
    }
   ],
   "source": [
    "df.columns"
   ]
  },
  {
   "cell_type": "markdown",
   "id": "23a0c1d0",
   "metadata": {},
   "source": [
    "### Processo de verificação de inconsistencias na base de dados"
   ]
  },
  {
   "cell_type": "code",
   "execution_count": 5,
   "id": "07556723",
   "metadata": {},
   "outputs": [
    {
     "name": "stdout",
     "output_type": "stream",
     "text": [
      "<class 'pandas.core.frame.DataFrame'>\n",
      "RangeIndex: 1246 entries, 0 to 1245\n",
      "Data columns (total 12 columns):\n",
      " #   Column          Non-Null Count  Dtype  \n",
      "---  ------          --------------  -----  \n",
      " 0   Cod_ID          1246 non-null   int64  \n",
      " 1   NOME_UDH        1246 non-null   object \n",
      " 2   NOME_MUN        1246 non-null   object \n",
      " 3   IDHM            1228 non-null   float64\n",
      " 4   IDHM_E          1228 non-null   float64\n",
      " 5   IDHM_R          1228 non-null   float64\n",
      " 6   IDHM_L          1228 non-null   float64\n",
      " 7   E_ANOSESTUDO    1228 non-null   float64\n",
      " 8   I_ESCOLARIDADE  1228 non-null   float64\n",
      " 9   I_FREQ_PROP     1228 non-null   float64\n",
      " 10  GINI            1228 non-null   float64\n",
      " 11  CPR             1228 non-null   float64\n",
      "dtypes: float64(9), int64(1), object(2)\n",
      "memory usage: 116.9+ KB\n"
     ]
    }
   ],
   "source": [
    "df.info()"
   ]
  },
  {
   "cell_type": "code",
   "execution_count": 6,
   "id": "41dc9e3b",
   "metadata": {},
   "outputs": [
    {
     "data": {
      "application/vnd.microsoft.datawrangler.viewer.v0+json": {
       "columns": [
        {
         "name": "index",
         "rawType": "object",
         "type": "string"
        },
        {
         "name": "0",
         "rawType": "int64",
         "type": "integer"
        }
       ],
       "ref": "c0ed249b-2f5a-4206-8d1d-1f684e1871c6",
       "rows": [
        [
         "Cod_ID",
         "0"
        ],
        [
         "NOME_UDH",
         "0"
        ],
        [
         "NOME_MUN",
         "0"
        ],
        [
         "IDHM",
         "18"
        ],
        [
         "IDHM_E",
         "18"
        ],
        [
         "IDHM_R",
         "18"
        ],
        [
         "IDHM_L",
         "18"
        ],
        [
         "E_ANOSESTUDO",
         "18"
        ],
        [
         "I_ESCOLARIDADE",
         "18"
        ],
        [
         "I_FREQ_PROP",
         "18"
        ],
        [
         "GINI",
         "18"
        ],
        [
         "CPR",
         "18"
        ]
       ],
       "shape": {
        "columns": 1,
        "rows": 12
       }
      },
      "text/plain": [
       "Cod_ID             0\n",
       "NOME_UDH           0\n",
       "NOME_MUN           0\n",
       "IDHM              18\n",
       "IDHM_E            18\n",
       "IDHM_R            18\n",
       "IDHM_L            18\n",
       "E_ANOSESTUDO      18\n",
       "I_ESCOLARIDADE    18\n",
       "I_FREQ_PROP       18\n",
       "GINI              18\n",
       "CPR               18\n",
       "dtype: int64"
      ]
     },
     "execution_count": 6,
     "metadata": {},
     "output_type": "execute_result"
    }
   ],
   "source": [
    "df.isnull().sum()"
   ]
  },
  {
   "cell_type": "markdown",
   "id": "058e10cc",
   "metadata": {},
   "source": [
    "Encontrados valores nulos em alguns atributos, necessa caso, apenas realizarei o drop dos valores nulos "
   ]
  },
  {
   "cell_type": "code",
   "execution_count": null,
   "id": "a03aa217",
   "metadata": {},
   "outputs": [],
   "source": [
    "# Salvando o dataset sem dados nulos em um novo arquivo csv \n",
    "novo_df = df.dropna()"
   ]
  },
  {
   "cell_type": "code",
   "execution_count": 12,
   "id": "23de52d5",
   "metadata": {},
   "outputs": [
    {
     "data": {
      "application/vnd.microsoft.datawrangler.viewer.v0+json": {
       "columns": [
        {
         "name": "index",
         "rawType": "int64",
         "type": "integer"
        },
        {
         "name": "Cod_ID",
         "rawType": "int64",
         "type": "integer"
        },
        {
         "name": "NOME_UDH",
         "rawType": "object",
         "type": "string"
        },
        {
         "name": "NOME_MUN",
         "rawType": "object",
         "type": "string"
        },
        {
         "name": "IDHM",
         "rawType": "float64",
         "type": "float"
        },
        {
         "name": "IDHM_E",
         "rawType": "float64",
         "type": "float"
        },
        {
         "name": "IDHM_R",
         "rawType": "float64",
         "type": "float"
        },
        {
         "name": "IDHM_L",
         "rawType": "float64",
         "type": "float"
        },
        {
         "name": "E_ANOSESTUDO",
         "rawType": "float64",
         "type": "float"
        },
        {
         "name": "I_ESCOLARIDADE",
         "rawType": "float64",
         "type": "float"
        },
        {
         "name": "I_FREQ_PROP",
         "rawType": "float64",
         "type": "float"
        },
        {
         "name": "GINI",
         "rawType": "float64",
         "type": "float"
        },
        {
         "name": "CPR",
         "rawType": "float64",
         "type": "float"
        }
       ],
       "ref": "255d6f5a-e876-49d7-8619-0e7c159a130c",
       "rows": [
        [
         "0",
         "1310500000001",
         "Baldim",
         "Baldim (MG)",
         "0.592",
         "0.459",
         "0.591",
         "0.766",
         "9.69",
         "0.277",
         "0.591",
         "0.52",
         "26.43"
        ],
        [
         "1",
         "1310620001001",
         "Lindéia / Jatobá",
         "Belo Horizonte (MG)",
         "0.664",
         "0.565",
         "0.654",
         "0.791",
         "10.48",
         "0.43",
         "0.648",
         "0.4",
         "21.07"
        ],
        [
         "2",
         "1310620001002",
         "Solar do Barreiro : Corumbiara",
         "Belo Horizonte (MG)",
         "0.582",
         "0.43",
         "0.609",
         "0.751",
         "9.27",
         "0.332",
         "0.49",
         "0.44",
         "22.33"
        ],
        [
         "3",
         "1310620001003",
         "Bonsucesso : Novo das Indústrias / São João",
         "Belo Horizonte (MG)",
         "0.529",
         "0.358",
         "0.57",
         "0.725",
         "7.95",
         "0.23",
         "0.447",
         "0.41",
         "16.19"
        ],
        [
         "4",
         "1310620001004",
         "Vila Olhos d'Água",
         "Belo Horizonte (MG)",
         "0.531",
         "0.39",
         "0.553",
         "0.693",
         "8.55",
         "0.28",
         "0.461",
         "0.4",
         "16.99"
        ]
       ],
       "shape": {
        "columns": 12,
        "rows": 5
       }
      },
      "text/html": [
       "<div>\n",
       "<style scoped>\n",
       "    .dataframe tbody tr th:only-of-type {\n",
       "        vertical-align: middle;\n",
       "    }\n",
       "\n",
       "    .dataframe tbody tr th {\n",
       "        vertical-align: top;\n",
       "    }\n",
       "\n",
       "    .dataframe thead th {\n",
       "        text-align: right;\n",
       "    }\n",
       "</style>\n",
       "<table border=\"1\" class=\"dataframe\">\n",
       "  <thead>\n",
       "    <tr style=\"text-align: right;\">\n",
       "      <th></th>\n",
       "      <th>Cod_ID</th>\n",
       "      <th>NOME_UDH</th>\n",
       "      <th>NOME_MUN</th>\n",
       "      <th>IDHM</th>\n",
       "      <th>IDHM_E</th>\n",
       "      <th>IDHM_R</th>\n",
       "      <th>IDHM_L</th>\n",
       "      <th>E_ANOSESTUDO</th>\n",
       "      <th>I_ESCOLARIDADE</th>\n",
       "      <th>I_FREQ_PROP</th>\n",
       "      <th>GINI</th>\n",
       "      <th>CPR</th>\n",
       "    </tr>\n",
       "  </thead>\n",
       "  <tbody>\n",
       "    <tr>\n",
       "      <th>0</th>\n",
       "      <td>1310500000001</td>\n",
       "      <td>Baldim</td>\n",
       "      <td>Baldim (MG)</td>\n",
       "      <td>0.592</td>\n",
       "      <td>0.459</td>\n",
       "      <td>0.591</td>\n",
       "      <td>0.766</td>\n",
       "      <td>9.69</td>\n",
       "      <td>0.277</td>\n",
       "      <td>0.591</td>\n",
       "      <td>0.52</td>\n",
       "      <td>26.43</td>\n",
       "    </tr>\n",
       "    <tr>\n",
       "      <th>1</th>\n",
       "      <td>1310620001001</td>\n",
       "      <td>Lindéia / Jatobá</td>\n",
       "      <td>Belo Horizonte (MG)</td>\n",
       "      <td>0.664</td>\n",
       "      <td>0.565</td>\n",
       "      <td>0.654</td>\n",
       "      <td>0.791</td>\n",
       "      <td>10.48</td>\n",
       "      <td>0.430</td>\n",
       "      <td>0.648</td>\n",
       "      <td>0.40</td>\n",
       "      <td>21.07</td>\n",
       "    </tr>\n",
       "    <tr>\n",
       "      <th>2</th>\n",
       "      <td>1310620001002</td>\n",
       "      <td>Solar do Barreiro : Corumbiara</td>\n",
       "      <td>Belo Horizonte (MG)</td>\n",
       "      <td>0.582</td>\n",
       "      <td>0.430</td>\n",
       "      <td>0.609</td>\n",
       "      <td>0.751</td>\n",
       "      <td>9.27</td>\n",
       "      <td>0.332</td>\n",
       "      <td>0.490</td>\n",
       "      <td>0.44</td>\n",
       "      <td>22.33</td>\n",
       "    </tr>\n",
       "    <tr>\n",
       "      <th>3</th>\n",
       "      <td>1310620001003</td>\n",
       "      <td>Bonsucesso : Novo das Indústrias / São João</td>\n",
       "      <td>Belo Horizonte (MG)</td>\n",
       "      <td>0.529</td>\n",
       "      <td>0.358</td>\n",
       "      <td>0.570</td>\n",
       "      <td>0.725</td>\n",
       "      <td>7.95</td>\n",
       "      <td>0.230</td>\n",
       "      <td>0.447</td>\n",
       "      <td>0.41</td>\n",
       "      <td>16.19</td>\n",
       "    </tr>\n",
       "    <tr>\n",
       "      <th>4</th>\n",
       "      <td>1310620001004</td>\n",
       "      <td>Vila Olhos d'Água</td>\n",
       "      <td>Belo Horizonte (MG)</td>\n",
       "      <td>0.531</td>\n",
       "      <td>0.390</td>\n",
       "      <td>0.553</td>\n",
       "      <td>0.693</td>\n",
       "      <td>8.55</td>\n",
       "      <td>0.280</td>\n",
       "      <td>0.461</td>\n",
       "      <td>0.40</td>\n",
       "      <td>16.99</td>\n",
       "    </tr>\n",
       "  </tbody>\n",
       "</table>\n",
       "</div>"
      ],
      "text/plain": [
       "          Cod_ID                                     NOME_UDH  \\\n",
       "0  1310500000001                                       Baldim   \n",
       "1  1310620001001                             Lindéia / Jatobá   \n",
       "2  1310620001002               Solar do Barreiro : Corumbiara   \n",
       "3  1310620001003  Bonsucesso : Novo das Indústrias / São João   \n",
       "4  1310620001004                            Vila Olhos d'Água   \n",
       "\n",
       "              NOME_MUN   IDHM  IDHM_E  IDHM_R  IDHM_L  E_ANOSESTUDO  \\\n",
       "0          Baldim (MG)  0.592   0.459   0.591   0.766          9.69   \n",
       "1  Belo Horizonte (MG)  0.664   0.565   0.654   0.791         10.48   \n",
       "2  Belo Horizonte (MG)  0.582   0.430   0.609   0.751          9.27   \n",
       "3  Belo Horizonte (MG)  0.529   0.358   0.570   0.725          7.95   \n",
       "4  Belo Horizonte (MG)  0.531   0.390   0.553   0.693          8.55   \n",
       "\n",
       "   I_ESCOLARIDADE  I_FREQ_PROP  GINI    CPR  \n",
       "0           0.277        0.591  0.52  26.43  \n",
       "1           0.430        0.648  0.40  21.07  \n",
       "2           0.332        0.490  0.44  22.33  \n",
       "3           0.230        0.447  0.41  16.19  \n",
       "4           0.280        0.461  0.40  16.99  "
      ]
     },
     "execution_count": 12,
     "metadata": {},
     "output_type": "execute_result"
    }
   ],
   "source": [
    "df.head()"
   ]
  },
  {
   "cell_type": "code",
   "execution_count": 13,
   "id": "1855ab7a",
   "metadata": {},
   "outputs": [
    {
     "data": {
      "application/vnd.microsoft.datawrangler.viewer.v0+json": {
       "columns": [
        {
         "name": "index",
         "rawType": "int64",
         "type": "integer"
        },
        {
         "name": "Cod_ID",
         "rawType": "int64",
         "type": "integer"
        },
        {
         "name": "NOME_UDH",
         "rawType": "object",
         "type": "string"
        },
        {
         "name": "NOME_MUN",
         "rawType": "object",
         "type": "string"
        },
        {
         "name": "IDHM",
         "rawType": "float64",
         "type": "float"
        },
        {
         "name": "IDHM_E",
         "rawType": "float64",
         "type": "float"
        },
        {
         "name": "IDHM_R",
         "rawType": "float64",
         "type": "float"
        },
        {
         "name": "IDHM_L",
         "rawType": "float64",
         "type": "float"
        },
        {
         "name": "E_ANOSESTUDO",
         "rawType": "float64",
         "type": "float"
        },
        {
         "name": "I_ESCOLARIDADE",
         "rawType": "float64",
         "type": "float"
        },
        {
         "name": "I_FREQ_PROP",
         "rawType": "float64",
         "type": "float"
        },
        {
         "name": "GINI",
         "rawType": "float64",
         "type": "float"
        },
        {
         "name": "CPR",
         "rawType": "float64",
         "type": "float"
        }
       ],
       "ref": "557d0a25-c91f-4839-ba7a-69e7d1e69d16",
       "rows": [
        [
         "0",
         "1310500000001",
         "Baldim",
         "Baldim (MG)",
         "0.592",
         "0.459",
         "0.591",
         "0.766",
         "9.69",
         "0.277",
         "0.591",
         "0.52",
         "26.43"
        ],
        [
         "1",
         "1310620001001",
         "Lindéia / Jatobá",
         "Belo Horizonte (MG)",
         "0.664",
         "0.565",
         "0.654",
         "0.791",
         "10.48",
         "0.43",
         "0.648",
         "0.4",
         "21.07"
        ],
        [
         "2",
         "1310620001002",
         "Solar do Barreiro : Corumbiara",
         "Belo Horizonte (MG)",
         "0.582",
         "0.43",
         "0.609",
         "0.751",
         "9.27",
         "0.332",
         "0.49",
         "0.44",
         "22.33"
        ],
        [
         "3",
         "1310620001003",
         "Bonsucesso : Novo das Indústrias / São João",
         "Belo Horizonte (MG)",
         "0.529",
         "0.358",
         "0.57",
         "0.725",
         "7.95",
         "0.23",
         "0.447",
         "0.41",
         "16.19"
        ],
        [
         "4",
         "1310620001004",
         "Vila Olhos d'Água",
         "Belo Horizonte (MG)",
         "0.531",
         "0.39",
         "0.553",
         "0.693",
         "8.55",
         "0.28",
         "0.461",
         "0.4",
         "16.99"
        ]
       ],
       "shape": {
        "columns": 12,
        "rows": 5
       }
      },
      "text/html": [
       "<div>\n",
       "<style scoped>\n",
       "    .dataframe tbody tr th:only-of-type {\n",
       "        vertical-align: middle;\n",
       "    }\n",
       "\n",
       "    .dataframe tbody tr th {\n",
       "        vertical-align: top;\n",
       "    }\n",
       "\n",
       "    .dataframe thead th {\n",
       "        text-align: right;\n",
       "    }\n",
       "</style>\n",
       "<table border=\"1\" class=\"dataframe\">\n",
       "  <thead>\n",
       "    <tr style=\"text-align: right;\">\n",
       "      <th></th>\n",
       "      <th>Cod_ID</th>\n",
       "      <th>NOME_UDH</th>\n",
       "      <th>NOME_MUN</th>\n",
       "      <th>IDHM</th>\n",
       "      <th>IDHM_E</th>\n",
       "      <th>IDHM_R</th>\n",
       "      <th>IDHM_L</th>\n",
       "      <th>E_ANOSESTUDO</th>\n",
       "      <th>I_ESCOLARIDADE</th>\n",
       "      <th>I_FREQ_PROP</th>\n",
       "      <th>GINI</th>\n",
       "      <th>CPR</th>\n",
       "    </tr>\n",
       "  </thead>\n",
       "  <tbody>\n",
       "    <tr>\n",
       "      <th>0</th>\n",
       "      <td>1310500000001</td>\n",
       "      <td>Baldim</td>\n",
       "      <td>Baldim (MG)</td>\n",
       "      <td>0.592</td>\n",
       "      <td>0.459</td>\n",
       "      <td>0.591</td>\n",
       "      <td>0.766</td>\n",
       "      <td>9.69</td>\n",
       "      <td>0.277</td>\n",
       "      <td>0.591</td>\n",
       "      <td>0.52</td>\n",
       "      <td>26.43</td>\n",
       "    </tr>\n",
       "    <tr>\n",
       "      <th>1</th>\n",
       "      <td>1310620001001</td>\n",
       "      <td>Lindéia / Jatobá</td>\n",
       "      <td>Belo Horizonte (MG)</td>\n",
       "      <td>0.664</td>\n",
       "      <td>0.565</td>\n",
       "      <td>0.654</td>\n",
       "      <td>0.791</td>\n",
       "      <td>10.48</td>\n",
       "      <td>0.430</td>\n",
       "      <td>0.648</td>\n",
       "      <td>0.40</td>\n",
       "      <td>21.07</td>\n",
       "    </tr>\n",
       "    <tr>\n",
       "      <th>2</th>\n",
       "      <td>1310620001002</td>\n",
       "      <td>Solar do Barreiro : Corumbiara</td>\n",
       "      <td>Belo Horizonte (MG)</td>\n",
       "      <td>0.582</td>\n",
       "      <td>0.430</td>\n",
       "      <td>0.609</td>\n",
       "      <td>0.751</td>\n",
       "      <td>9.27</td>\n",
       "      <td>0.332</td>\n",
       "      <td>0.490</td>\n",
       "      <td>0.44</td>\n",
       "      <td>22.33</td>\n",
       "    </tr>\n",
       "    <tr>\n",
       "      <th>3</th>\n",
       "      <td>1310620001003</td>\n",
       "      <td>Bonsucesso : Novo das Indústrias / São João</td>\n",
       "      <td>Belo Horizonte (MG)</td>\n",
       "      <td>0.529</td>\n",
       "      <td>0.358</td>\n",
       "      <td>0.570</td>\n",
       "      <td>0.725</td>\n",
       "      <td>7.95</td>\n",
       "      <td>0.230</td>\n",
       "      <td>0.447</td>\n",
       "      <td>0.41</td>\n",
       "      <td>16.19</td>\n",
       "    </tr>\n",
       "    <tr>\n",
       "      <th>4</th>\n",
       "      <td>1310620001004</td>\n",
       "      <td>Vila Olhos d'Água</td>\n",
       "      <td>Belo Horizonte (MG)</td>\n",
       "      <td>0.531</td>\n",
       "      <td>0.390</td>\n",
       "      <td>0.553</td>\n",
       "      <td>0.693</td>\n",
       "      <td>8.55</td>\n",
       "      <td>0.280</td>\n",
       "      <td>0.461</td>\n",
       "      <td>0.40</td>\n",
       "      <td>16.99</td>\n",
       "    </tr>\n",
       "  </tbody>\n",
       "</table>\n",
       "</div>"
      ],
      "text/plain": [
       "          Cod_ID                                     NOME_UDH  \\\n",
       "0  1310500000001                                       Baldim   \n",
       "1  1310620001001                             Lindéia / Jatobá   \n",
       "2  1310620001002               Solar do Barreiro : Corumbiara   \n",
       "3  1310620001003  Bonsucesso : Novo das Indústrias / São João   \n",
       "4  1310620001004                            Vila Olhos d'Água   \n",
       "\n",
       "              NOME_MUN   IDHM  IDHM_E  IDHM_R  IDHM_L  E_ANOSESTUDO  \\\n",
       "0          Baldim (MG)  0.592   0.459   0.591   0.766          9.69   \n",
       "1  Belo Horizonte (MG)  0.664   0.565   0.654   0.791         10.48   \n",
       "2  Belo Horizonte (MG)  0.582   0.430   0.609   0.751          9.27   \n",
       "3  Belo Horizonte (MG)  0.529   0.358   0.570   0.725          7.95   \n",
       "4  Belo Horizonte (MG)  0.531   0.390   0.553   0.693          8.55   \n",
       "\n",
       "   I_ESCOLARIDADE  I_FREQ_PROP  GINI    CPR  \n",
       "0           0.277        0.591  0.52  26.43  \n",
       "1           0.430        0.648  0.40  21.07  \n",
       "2           0.332        0.490  0.44  22.33  \n",
       "3           0.230        0.447  0.41  16.19  \n",
       "4           0.280        0.461  0.40  16.99  "
      ]
     },
     "execution_count": 13,
     "metadata": {},
     "output_type": "execute_result"
    }
   ],
   "source": [
    "novo_df.head()"
   ]
  },
  {
   "cell_type": "code",
   "execution_count": 14,
   "id": "01eb1c7d",
   "metadata": {},
   "outputs": [
    {
     "data": {
      "application/vnd.microsoft.datawrangler.viewer.v0+json": {
       "columns": [
        {
         "name": "index",
         "rawType": "object",
         "type": "string"
        },
        {
         "name": "0",
         "rawType": "int64",
         "type": "integer"
        }
       ],
       "ref": "d5e65e56-8f28-4ced-afab-675223f1b1af",
       "rows": [
        [
         "Cod_ID",
         "0"
        ],
        [
         "NOME_UDH",
         "0"
        ],
        [
         "NOME_MUN",
         "0"
        ],
        [
         "IDHM",
         "0"
        ],
        [
         "IDHM_E",
         "0"
        ],
        [
         "IDHM_R",
         "0"
        ],
        [
         "IDHM_L",
         "0"
        ],
        [
         "E_ANOSESTUDO",
         "0"
        ],
        [
         "I_ESCOLARIDADE",
         "0"
        ],
        [
         "I_FREQ_PROP",
         "0"
        ],
        [
         "GINI",
         "0"
        ],
        [
         "CPR",
         "0"
        ]
       ],
       "shape": {
        "columns": 1,
        "rows": 12
       }
      },
      "text/plain": [
       "Cod_ID            0\n",
       "NOME_UDH          0\n",
       "NOME_MUN          0\n",
       "IDHM              0\n",
       "IDHM_E            0\n",
       "IDHM_R            0\n",
       "IDHM_L            0\n",
       "E_ANOSESTUDO      0\n",
       "I_ESCOLARIDADE    0\n",
       "I_FREQ_PROP       0\n",
       "GINI              0\n",
       "CPR               0\n",
       "dtype: int64"
      ]
     },
     "execution_count": 14,
     "metadata": {},
     "output_type": "execute_result"
    }
   ],
   "source": [
    "novo_df.isnull().sum()"
   ]
  },
  {
   "cell_type": "code",
   "execution_count": 17,
   "id": "b69f7762",
   "metadata": {},
   "outputs": [
    {
     "data": {
      "text/plain": [
       "np.int64(0)"
      ]
     },
     "execution_count": 17,
     "metadata": {},
     "output_type": "execute_result"
    }
   ],
   "source": [
    "df.duplicated()\n",
    "df.duplicated().sum()"
   ]
  },
  {
   "cell_type": "code",
   "execution_count": 18,
   "id": "b7113dfb",
   "metadata": {},
   "outputs": [],
   "source": [
    "novo_df.to_csv(\"/home/alencaravelar/Desktop/zetta-lab/zetta-lab/data/refined/base_udh_refined.csv\")"
   ]
  }
 ],
 "metadata": {
  "kernelspec": {
   "display_name": "base",
   "language": "python",
   "name": "python3"
  },
  "language_info": {
   "codemirror_mode": {
    "name": "ipython",
    "version": 3
   },
   "file_extension": ".py",
   "mimetype": "text/x-python",
   "name": "python",
   "nbconvert_exporter": "python",
   "pygments_lexer": "ipython3",
   "version": "3.13.5"
  }
 },
 "nbformat": 4,
 "nbformat_minor": 5
}

{
 "cells": [
  {
   "cell_type": "markdown",
   "id": "33a3b5ef",
   "metadata": {},
   "source": [
    "# Exploração para identificar inconsistencias na base de dados e refinamento "
   ]
  },
  {
   "cell_type": "code",
   "execution_count": 46,
   "id": "981d2d3c",
   "metadata": {},
   "outputs": [],
   "source": [
    "import pandas as pd "
   ]
  },
  {
   "cell_type": "code",
   "execution_count": 47,
   "id": "d6f0ccf5",
   "metadata": {},
   "outputs": [
    {
     "data": {
      "application/vnd.microsoft.datawrangler.viewer.v0+json": {
       "columns": [
        {
         "name": "index",
         "rawType": "int64",
         "type": "integer"
        },
        {
         "name": "Cod_ID",
         "rawType": "int64",
         "type": "integer"
        },
        {
         "name": "NOME_UDH",
         "rawType": "object",
         "type": "string"
        },
        {
         "name": "NOME_MUN",
         "rawType": "object",
         "type": "string"
        },
        {
         "name": "IDHM",
         "rawType": "float64",
         "type": "float"
        },
        {
         "name": "IDHM_E",
         "rawType": "float64",
         "type": "float"
        },
        {
         "name": "IDHM_R",
         "rawType": "float64",
         "type": "float"
        },
        {
         "name": "IDHM_L",
         "rawType": "float64",
         "type": "float"
        },
        {
         "name": "E_ANOSESTUDO",
         "rawType": "float64",
         "type": "float"
        },
        {
         "name": "I_ESCOLARIDADE",
         "rawType": "float64",
         "type": "float"
        },
        {
         "name": "I_FREQ_PROP",
         "rawType": "float64",
         "type": "float"
        },
        {
         "name": "GINI",
         "rawType": "float64",
         "type": "float"
        },
        {
         "name": "RDPC",
         "rawType": "float64",
         "type": "float"
        }
       ],
       "ref": "dd796890-bbfe-41f4-a644-e294319940df",
       "rows": [
        [
         "0",
         "1310500000001",
         "Baldim",
         "Baldim (MG)",
         "0.592",
         "0.459",
         "0.591",
         "0.766",
         "9.69",
         "0.277",
         "0.591",
         "0.52",
         "316.74"
        ],
        [
         "1",
         "1310620001001",
         "Lindéia / Jatobá",
         "Belo Horizonte (MG)",
         "0.664",
         "0.565",
         "0.654",
         "0.791",
         "10.48",
         "0.43",
         "0.648",
         "0.4",
         "468.62"
        ],
        [
         "2",
         "1310620001002",
         "Solar do Barreiro : Corumbiara",
         "Belo Horizonte (MG)",
         "0.582",
         "0.43",
         "0.609",
         "0.751",
         "9.27",
         "0.332",
         "0.49",
         "0.44",
         "352.96"
        ],
        [
         "3",
         "1310620001003",
         "Bonsucesso : Novo das Indústrias / São João",
         "Belo Horizonte (MG)",
         "0.529",
         "0.358",
         "0.57",
         "0.725",
         "7.95",
         "0.23",
         "0.447",
         "0.41",
         "276.83"
        ],
        [
         "4",
         "1310620001004",
         "Vila Olhos d'Água",
         "Belo Horizonte (MG)",
         "0.531",
         "0.39",
         "0.553",
         "0.693",
         "8.55",
         "0.28",
         "0.461",
         "0.4",
         "250.12"
        ]
       ],
       "shape": {
        "columns": 12,
        "rows": 5
       }
      },
      "text/html": [
       "<div>\n",
       "<style scoped>\n",
       "    .dataframe tbody tr th:only-of-type {\n",
       "        vertical-align: middle;\n",
       "    }\n",
       "\n",
       "    .dataframe tbody tr th {\n",
       "        vertical-align: top;\n",
       "    }\n",
       "\n",
       "    .dataframe thead th {\n",
       "        text-align: right;\n",
       "    }\n",
       "</style>\n",
       "<table border=\"1\" class=\"dataframe\">\n",
       "  <thead>\n",
       "    <tr style=\"text-align: right;\">\n",
       "      <th></th>\n",
       "      <th>Cod_ID</th>\n",
       "      <th>NOME_UDH</th>\n",
       "      <th>NOME_MUN</th>\n",
       "      <th>IDHM</th>\n",
       "      <th>IDHM_E</th>\n",
       "      <th>IDHM_R</th>\n",
       "      <th>IDHM_L</th>\n",
       "      <th>E_ANOSESTUDO</th>\n",
       "      <th>I_ESCOLARIDADE</th>\n",
       "      <th>I_FREQ_PROP</th>\n",
       "      <th>GINI</th>\n",
       "      <th>RDPC</th>\n",
       "    </tr>\n",
       "  </thead>\n",
       "  <tbody>\n",
       "    <tr>\n",
       "      <th>0</th>\n",
       "      <td>1310500000001</td>\n",
       "      <td>Baldim</td>\n",
       "      <td>Baldim (MG)</td>\n",
       "      <td>0.592</td>\n",
       "      <td>0.459</td>\n",
       "      <td>0.591</td>\n",
       "      <td>0.766</td>\n",
       "      <td>9.69</td>\n",
       "      <td>0.277</td>\n",
       "      <td>0.591</td>\n",
       "      <td>0.52</td>\n",
       "      <td>316.74</td>\n",
       "    </tr>\n",
       "    <tr>\n",
       "      <th>1</th>\n",
       "      <td>1310620001001</td>\n",
       "      <td>Lindéia / Jatobá</td>\n",
       "      <td>Belo Horizonte (MG)</td>\n",
       "      <td>0.664</td>\n",
       "      <td>0.565</td>\n",
       "      <td>0.654</td>\n",
       "      <td>0.791</td>\n",
       "      <td>10.48</td>\n",
       "      <td>0.430</td>\n",
       "      <td>0.648</td>\n",
       "      <td>0.40</td>\n",
       "      <td>468.62</td>\n",
       "    </tr>\n",
       "    <tr>\n",
       "      <th>2</th>\n",
       "      <td>1310620001002</td>\n",
       "      <td>Solar do Barreiro : Corumbiara</td>\n",
       "      <td>Belo Horizonte (MG)</td>\n",
       "      <td>0.582</td>\n",
       "      <td>0.430</td>\n",
       "      <td>0.609</td>\n",
       "      <td>0.751</td>\n",
       "      <td>9.27</td>\n",
       "      <td>0.332</td>\n",
       "      <td>0.490</td>\n",
       "      <td>0.44</td>\n",
       "      <td>352.96</td>\n",
       "    </tr>\n",
       "    <tr>\n",
       "      <th>3</th>\n",
       "      <td>1310620001003</td>\n",
       "      <td>Bonsucesso : Novo das Indústrias / São João</td>\n",
       "      <td>Belo Horizonte (MG)</td>\n",
       "      <td>0.529</td>\n",
       "      <td>0.358</td>\n",
       "      <td>0.570</td>\n",
       "      <td>0.725</td>\n",
       "      <td>7.95</td>\n",
       "      <td>0.230</td>\n",
       "      <td>0.447</td>\n",
       "      <td>0.41</td>\n",
       "      <td>276.83</td>\n",
       "    </tr>\n",
       "    <tr>\n",
       "      <th>4</th>\n",
       "      <td>1310620001004</td>\n",
       "      <td>Vila Olhos d'Água</td>\n",
       "      <td>Belo Horizonte (MG)</td>\n",
       "      <td>0.531</td>\n",
       "      <td>0.390</td>\n",
       "      <td>0.553</td>\n",
       "      <td>0.693</td>\n",
       "      <td>8.55</td>\n",
       "      <td>0.280</td>\n",
       "      <td>0.461</td>\n",
       "      <td>0.40</td>\n",
       "      <td>250.12</td>\n",
       "    </tr>\n",
       "  </tbody>\n",
       "</table>\n",
       "</div>"
      ],
      "text/plain": [
       "          Cod_ID                                     NOME_UDH  \\\n",
       "0  1310500000001                                       Baldim   \n",
       "1  1310620001001                             Lindéia / Jatobá   \n",
       "2  1310620001002               Solar do Barreiro : Corumbiara   \n",
       "3  1310620001003  Bonsucesso : Novo das Indústrias / São João   \n",
       "4  1310620001004                            Vila Olhos d'Água   \n",
       "\n",
       "              NOME_MUN   IDHM  IDHM_E  IDHM_R  IDHM_L  E_ANOSESTUDO  \\\n",
       "0          Baldim (MG)  0.592   0.459   0.591   0.766          9.69   \n",
       "1  Belo Horizonte (MG)  0.664   0.565   0.654   0.791         10.48   \n",
       "2  Belo Horizonte (MG)  0.582   0.430   0.609   0.751          9.27   \n",
       "3  Belo Horizonte (MG)  0.529   0.358   0.570   0.725          7.95   \n",
       "4  Belo Horizonte (MG)  0.531   0.390   0.553   0.693          8.55   \n",
       "\n",
       "   I_ESCOLARIDADE  I_FREQ_PROP  GINI    RDPC  \n",
       "0           0.277        0.591  0.52  316.74  \n",
       "1           0.430        0.648  0.40  468.62  \n",
       "2           0.332        0.490  0.44  352.96  \n",
       "3           0.230        0.447  0.41  276.83  \n",
       "4           0.280        0.461  0.40  250.12  "
      ]
     },
     "execution_count": 47,
     "metadata": {},
     "output_type": "execute_result"
    }
   ],
   "source": [
    "path_trusted = \"/home/alencaravelar/Desktop/zetta-lab/zetta-lab/data/trusted/base_udh_trusted.csv\"\n",
    "\n",
    "df = pd.read_csv(path_trusted)\n",
    "\n",
    "df.head()"
   ]
  },
  {
   "cell_type": "code",
   "execution_count": 48,
   "id": "055f4af6",
   "metadata": {},
   "outputs": [
    {
     "data": {
      "text/plain": [
       "Index(['Cod_ID', 'NOME_UDH', 'NOME_MUN', 'IDHM', 'IDHM_E', 'IDHM_R', 'IDHM_L',\n",
       "       'E_ANOSESTUDO', 'I_ESCOLARIDADE', 'I_FREQ_PROP', 'GINI', 'RDPC'],\n",
       "      dtype='object')"
      ]
     },
     "execution_count": 48,
     "metadata": {},
     "output_type": "execute_result"
    }
   ],
   "source": [
    "df.columns"
   ]
  },
  {
   "cell_type": "markdown",
   "id": "23a0c1d0",
   "metadata": {},
   "source": [
    "### Processo de verificação de inconsistencias na base de dados"
   ]
  },
  {
   "cell_type": "code",
   "execution_count": 49,
   "id": "07556723",
   "metadata": {},
   "outputs": [
    {
     "name": "stdout",
     "output_type": "stream",
     "text": [
      "<class 'pandas.core.frame.DataFrame'>\n",
      "RangeIndex: 1246 entries, 0 to 1245\n",
      "Data columns (total 12 columns):\n",
      " #   Column          Non-Null Count  Dtype  \n",
      "---  ------          --------------  -----  \n",
      " 0   Cod_ID          1246 non-null   int64  \n",
      " 1   NOME_UDH        1246 non-null   object \n",
      " 2   NOME_MUN        1246 non-null   object \n",
      " 3   IDHM            1228 non-null   float64\n",
      " 4   IDHM_E          1228 non-null   float64\n",
      " 5   IDHM_R          1228 non-null   float64\n",
      " 6   IDHM_L          1228 non-null   float64\n",
      " 7   E_ANOSESTUDO    1228 non-null   float64\n",
      " 8   I_ESCOLARIDADE  1228 non-null   float64\n",
      " 9   I_FREQ_PROP     1228 non-null   float64\n",
      " 10  GINI            1228 non-null   float64\n",
      " 11  RDPC            1228 non-null   float64\n",
      "dtypes: float64(9), int64(1), object(2)\n",
      "memory usage: 116.9+ KB\n"
     ]
    }
   ],
   "source": [
    "df.info()"
   ]
  },
  {
   "cell_type": "code",
   "execution_count": 50,
   "id": "41dc9e3b",
   "metadata": {},
   "outputs": [
    {
     "data": {
      "application/vnd.microsoft.datawrangler.viewer.v0+json": {
       "columns": [
        {
         "name": "index",
         "rawType": "object",
         "type": "string"
        },
        {
         "name": "0",
         "rawType": "int64",
         "type": "integer"
        }
       ],
       "ref": "8bd50f84-757e-4906-8129-b2148240acf2",
       "rows": [
        [
         "Cod_ID",
         "0"
        ],
        [
         "NOME_UDH",
         "0"
        ],
        [
         "NOME_MUN",
         "0"
        ],
        [
         "IDHM",
         "18"
        ],
        [
         "IDHM_E",
         "18"
        ],
        [
         "IDHM_R",
         "18"
        ],
        [
         "IDHM_L",
         "18"
        ],
        [
         "E_ANOSESTUDO",
         "18"
        ],
        [
         "I_ESCOLARIDADE",
         "18"
        ],
        [
         "I_FREQ_PROP",
         "18"
        ],
        [
         "GINI",
         "18"
        ],
        [
         "RDPC",
         "18"
        ]
       ],
       "shape": {
        "columns": 1,
        "rows": 12
       }
      },
      "text/plain": [
       "Cod_ID             0\n",
       "NOME_UDH           0\n",
       "NOME_MUN           0\n",
       "IDHM              18\n",
       "IDHM_E            18\n",
       "IDHM_R            18\n",
       "IDHM_L            18\n",
       "E_ANOSESTUDO      18\n",
       "I_ESCOLARIDADE    18\n",
       "I_FREQ_PROP       18\n",
       "GINI              18\n",
       "RDPC              18\n",
       "dtype: int64"
      ]
     },
     "execution_count": 50,
     "metadata": {},
     "output_type": "execute_result"
    }
   ],
   "source": [
    "df.isnull().sum()"
   ]
  },
  {
   "cell_type": "markdown",
   "id": "058e10cc",
   "metadata": {},
   "source": [
    "Encontrados valores nulos em alguns atributos, necessa caso, apenas realizarei o drop dos valores nulos "
   ]
  },
  {
   "cell_type": "code",
   "execution_count": 51,
   "id": "a03aa217",
   "metadata": {},
   "outputs": [],
   "source": [
    "# Salvando o dataset sem dados nulos em um novo arquivo csv \n",
    "novo_df = df.dropna()"
   ]
  },
  {
   "cell_type": "code",
   "execution_count": 52,
   "id": "23de52d5",
   "metadata": {},
   "outputs": [
    {
     "data": {
      "application/vnd.microsoft.datawrangler.viewer.v0+json": {
       "columns": [
        {
         "name": "index",
         "rawType": "int64",
         "type": "integer"
        },
        {
         "name": "Cod_ID",
         "rawType": "int64",
         "type": "integer"
        },
        {
         "name": "NOME_UDH",
         "rawType": "object",
         "type": "string"
        },
        {
         "name": "NOME_MUN",
         "rawType": "object",
         "type": "string"
        },
        {
         "name": "IDHM",
         "rawType": "float64",
         "type": "float"
        },
        {
         "name": "IDHM_E",
         "rawType": "float64",
         "type": "float"
        },
        {
         "name": "IDHM_R",
         "rawType": "float64",
         "type": "float"
        },
        {
         "name": "IDHM_L",
         "rawType": "float64",
         "type": "float"
        },
        {
         "name": "E_ANOSESTUDO",
         "rawType": "float64",
         "type": "float"
        },
        {
         "name": "I_ESCOLARIDADE",
         "rawType": "float64",
         "type": "float"
        },
        {
         "name": "I_FREQ_PROP",
         "rawType": "float64",
         "type": "float"
        },
        {
         "name": "GINI",
         "rawType": "float64",
         "type": "float"
        },
        {
         "name": "RDPC",
         "rawType": "float64",
         "type": "float"
        }
       ],
       "ref": "53fa19fd-316b-43bb-b661-3d004b59993a",
       "rows": [
        [
         "0",
         "1310500000001",
         "Baldim",
         "Baldim (MG)",
         "0.592",
         "0.459",
         "0.591",
         "0.766",
         "9.69",
         "0.277",
         "0.591",
         "0.52",
         "316.74"
        ],
        [
         "1",
         "1310620001001",
         "Lindéia / Jatobá",
         "Belo Horizonte (MG)",
         "0.664",
         "0.565",
         "0.654",
         "0.791",
         "10.48",
         "0.43",
         "0.648",
         "0.4",
         "468.62"
        ],
        [
         "2",
         "1310620001002",
         "Solar do Barreiro : Corumbiara",
         "Belo Horizonte (MG)",
         "0.582",
         "0.43",
         "0.609",
         "0.751",
         "9.27",
         "0.332",
         "0.49",
         "0.44",
         "352.96"
        ],
        [
         "3",
         "1310620001003",
         "Bonsucesso : Novo das Indústrias / São João",
         "Belo Horizonte (MG)",
         "0.529",
         "0.358",
         "0.57",
         "0.725",
         "7.95",
         "0.23",
         "0.447",
         "0.41",
         "276.83"
        ],
        [
         "4",
         "1310620001004",
         "Vila Olhos d'Água",
         "Belo Horizonte (MG)",
         "0.531",
         "0.39",
         "0.553",
         "0.693",
         "8.55",
         "0.28",
         "0.461",
         "0.4",
         "250.12"
        ]
       ],
       "shape": {
        "columns": 12,
        "rows": 5
       }
      },
      "text/html": [
       "<div>\n",
       "<style scoped>\n",
       "    .dataframe tbody tr th:only-of-type {\n",
       "        vertical-align: middle;\n",
       "    }\n",
       "\n",
       "    .dataframe tbody tr th {\n",
       "        vertical-align: top;\n",
       "    }\n",
       "\n",
       "    .dataframe thead th {\n",
       "        text-align: right;\n",
       "    }\n",
       "</style>\n",
       "<table border=\"1\" class=\"dataframe\">\n",
       "  <thead>\n",
       "    <tr style=\"text-align: right;\">\n",
       "      <th></th>\n",
       "      <th>Cod_ID</th>\n",
       "      <th>NOME_UDH</th>\n",
       "      <th>NOME_MUN</th>\n",
       "      <th>IDHM</th>\n",
       "      <th>IDHM_E</th>\n",
       "      <th>IDHM_R</th>\n",
       "      <th>IDHM_L</th>\n",
       "      <th>E_ANOSESTUDO</th>\n",
       "      <th>I_ESCOLARIDADE</th>\n",
       "      <th>I_FREQ_PROP</th>\n",
       "      <th>GINI</th>\n",
       "      <th>RDPC</th>\n",
       "    </tr>\n",
       "  </thead>\n",
       "  <tbody>\n",
       "    <tr>\n",
       "      <th>0</th>\n",
       "      <td>1310500000001</td>\n",
       "      <td>Baldim</td>\n",
       "      <td>Baldim (MG)</td>\n",
       "      <td>0.592</td>\n",
       "      <td>0.459</td>\n",
       "      <td>0.591</td>\n",
       "      <td>0.766</td>\n",
       "      <td>9.69</td>\n",
       "      <td>0.277</td>\n",
       "      <td>0.591</td>\n",
       "      <td>0.52</td>\n",
       "      <td>316.74</td>\n",
       "    </tr>\n",
       "    <tr>\n",
       "      <th>1</th>\n",
       "      <td>1310620001001</td>\n",
       "      <td>Lindéia / Jatobá</td>\n",
       "      <td>Belo Horizonte (MG)</td>\n",
       "      <td>0.664</td>\n",
       "      <td>0.565</td>\n",
       "      <td>0.654</td>\n",
       "      <td>0.791</td>\n",
       "      <td>10.48</td>\n",
       "      <td>0.430</td>\n",
       "      <td>0.648</td>\n",
       "      <td>0.40</td>\n",
       "      <td>468.62</td>\n",
       "    </tr>\n",
       "    <tr>\n",
       "      <th>2</th>\n",
       "      <td>1310620001002</td>\n",
       "      <td>Solar do Barreiro : Corumbiara</td>\n",
       "      <td>Belo Horizonte (MG)</td>\n",
       "      <td>0.582</td>\n",
       "      <td>0.430</td>\n",
       "      <td>0.609</td>\n",
       "      <td>0.751</td>\n",
       "      <td>9.27</td>\n",
       "      <td>0.332</td>\n",
       "      <td>0.490</td>\n",
       "      <td>0.44</td>\n",
       "      <td>352.96</td>\n",
       "    </tr>\n",
       "    <tr>\n",
       "      <th>3</th>\n",
       "      <td>1310620001003</td>\n",
       "      <td>Bonsucesso : Novo das Indústrias / São João</td>\n",
       "      <td>Belo Horizonte (MG)</td>\n",
       "      <td>0.529</td>\n",
       "      <td>0.358</td>\n",
       "      <td>0.570</td>\n",
       "      <td>0.725</td>\n",
       "      <td>7.95</td>\n",
       "      <td>0.230</td>\n",
       "      <td>0.447</td>\n",
       "      <td>0.41</td>\n",
       "      <td>276.83</td>\n",
       "    </tr>\n",
       "    <tr>\n",
       "      <th>4</th>\n",
       "      <td>1310620001004</td>\n",
       "      <td>Vila Olhos d'Água</td>\n",
       "      <td>Belo Horizonte (MG)</td>\n",
       "      <td>0.531</td>\n",
       "      <td>0.390</td>\n",
       "      <td>0.553</td>\n",
       "      <td>0.693</td>\n",
       "      <td>8.55</td>\n",
       "      <td>0.280</td>\n",
       "      <td>0.461</td>\n",
       "      <td>0.40</td>\n",
       "      <td>250.12</td>\n",
       "    </tr>\n",
       "  </tbody>\n",
       "</table>\n",
       "</div>"
      ],
      "text/plain": [
       "          Cod_ID                                     NOME_UDH  \\\n",
       "0  1310500000001                                       Baldim   \n",
       "1  1310620001001                             Lindéia / Jatobá   \n",
       "2  1310620001002               Solar do Barreiro : Corumbiara   \n",
       "3  1310620001003  Bonsucesso : Novo das Indústrias / São João   \n",
       "4  1310620001004                            Vila Olhos d'Água   \n",
       "\n",
       "              NOME_MUN   IDHM  IDHM_E  IDHM_R  IDHM_L  E_ANOSESTUDO  \\\n",
       "0          Baldim (MG)  0.592   0.459   0.591   0.766          9.69   \n",
       "1  Belo Horizonte (MG)  0.664   0.565   0.654   0.791         10.48   \n",
       "2  Belo Horizonte (MG)  0.582   0.430   0.609   0.751          9.27   \n",
       "3  Belo Horizonte (MG)  0.529   0.358   0.570   0.725          7.95   \n",
       "4  Belo Horizonte (MG)  0.531   0.390   0.553   0.693          8.55   \n",
       "\n",
       "   I_ESCOLARIDADE  I_FREQ_PROP  GINI    RDPC  \n",
       "0           0.277        0.591  0.52  316.74  \n",
       "1           0.430        0.648  0.40  468.62  \n",
       "2           0.332        0.490  0.44  352.96  \n",
       "3           0.230        0.447  0.41  276.83  \n",
       "4           0.280        0.461  0.40  250.12  "
      ]
     },
     "execution_count": 52,
     "metadata": {},
     "output_type": "execute_result"
    }
   ],
   "source": [
    "df.head()"
   ]
  },
  {
   "cell_type": "code",
   "execution_count": 53,
   "id": "1855ab7a",
   "metadata": {},
   "outputs": [
    {
     "data": {
      "application/vnd.microsoft.datawrangler.viewer.v0+json": {
       "columns": [
        {
         "name": "index",
         "rawType": "int64",
         "type": "integer"
        },
        {
         "name": "Cod_ID",
         "rawType": "int64",
         "type": "integer"
        },
        {
         "name": "NOME_UDH",
         "rawType": "object",
         "type": "string"
        },
        {
         "name": "NOME_MUN",
         "rawType": "object",
         "type": "string"
        },
        {
         "name": "IDHM",
         "rawType": "float64",
         "type": "float"
        },
        {
         "name": "IDHM_E",
         "rawType": "float64",
         "type": "float"
        },
        {
         "name": "IDHM_R",
         "rawType": "float64",
         "type": "float"
        },
        {
         "name": "IDHM_L",
         "rawType": "float64",
         "type": "float"
        },
        {
         "name": "E_ANOSESTUDO",
         "rawType": "float64",
         "type": "float"
        },
        {
         "name": "I_ESCOLARIDADE",
         "rawType": "float64",
         "type": "float"
        },
        {
         "name": "I_FREQ_PROP",
         "rawType": "float64",
         "type": "float"
        },
        {
         "name": "GINI",
         "rawType": "float64",
         "type": "float"
        },
        {
         "name": "RDPC",
         "rawType": "float64",
         "type": "float"
        }
       ],
       "ref": "5da27d4c-6d6c-4fcf-ba75-2910122773b0",
       "rows": [
        [
         "0",
         "1310500000001",
         "Baldim",
         "Baldim (MG)",
         "0.592",
         "0.459",
         "0.591",
         "0.766",
         "9.69",
         "0.277",
         "0.591",
         "0.52",
         "316.74"
        ],
        [
         "1",
         "1310620001001",
         "Lindéia / Jatobá",
         "Belo Horizonte (MG)",
         "0.664",
         "0.565",
         "0.654",
         "0.791",
         "10.48",
         "0.43",
         "0.648",
         "0.4",
         "468.62"
        ],
        [
         "2",
         "1310620001002",
         "Solar do Barreiro : Corumbiara",
         "Belo Horizonte (MG)",
         "0.582",
         "0.43",
         "0.609",
         "0.751",
         "9.27",
         "0.332",
         "0.49",
         "0.44",
         "352.96"
        ],
        [
         "3",
         "1310620001003",
         "Bonsucesso : Novo das Indústrias / São João",
         "Belo Horizonte (MG)",
         "0.529",
         "0.358",
         "0.57",
         "0.725",
         "7.95",
         "0.23",
         "0.447",
         "0.41",
         "276.83"
        ],
        [
         "4",
         "1310620001004",
         "Vila Olhos d'Água",
         "Belo Horizonte (MG)",
         "0.531",
         "0.39",
         "0.553",
         "0.693",
         "8.55",
         "0.28",
         "0.461",
         "0.4",
         "250.12"
        ]
       ],
       "shape": {
        "columns": 12,
        "rows": 5
       }
      },
      "text/html": [
       "<div>\n",
       "<style scoped>\n",
       "    .dataframe tbody tr th:only-of-type {\n",
       "        vertical-align: middle;\n",
       "    }\n",
       "\n",
       "    .dataframe tbody tr th {\n",
       "        vertical-align: top;\n",
       "    }\n",
       "\n",
       "    .dataframe thead th {\n",
       "        text-align: right;\n",
       "    }\n",
       "</style>\n",
       "<table border=\"1\" class=\"dataframe\">\n",
       "  <thead>\n",
       "    <tr style=\"text-align: right;\">\n",
       "      <th></th>\n",
       "      <th>Cod_ID</th>\n",
       "      <th>NOME_UDH</th>\n",
       "      <th>NOME_MUN</th>\n",
       "      <th>IDHM</th>\n",
       "      <th>IDHM_E</th>\n",
       "      <th>IDHM_R</th>\n",
       "      <th>IDHM_L</th>\n",
       "      <th>E_ANOSESTUDO</th>\n",
       "      <th>I_ESCOLARIDADE</th>\n",
       "      <th>I_FREQ_PROP</th>\n",
       "      <th>GINI</th>\n",
       "      <th>RDPC</th>\n",
       "    </tr>\n",
       "  </thead>\n",
       "  <tbody>\n",
       "    <tr>\n",
       "      <th>0</th>\n",
       "      <td>1310500000001</td>\n",
       "      <td>Baldim</td>\n",
       "      <td>Baldim (MG)</td>\n",
       "      <td>0.592</td>\n",
       "      <td>0.459</td>\n",
       "      <td>0.591</td>\n",
       "      <td>0.766</td>\n",
       "      <td>9.69</td>\n",
       "      <td>0.277</td>\n",
       "      <td>0.591</td>\n",
       "      <td>0.52</td>\n",
       "      <td>316.74</td>\n",
       "    </tr>\n",
       "    <tr>\n",
       "      <th>1</th>\n",
       "      <td>1310620001001</td>\n",
       "      <td>Lindéia / Jatobá</td>\n",
       "      <td>Belo Horizonte (MG)</td>\n",
       "      <td>0.664</td>\n",
       "      <td>0.565</td>\n",
       "      <td>0.654</td>\n",
       "      <td>0.791</td>\n",
       "      <td>10.48</td>\n",
       "      <td>0.430</td>\n",
       "      <td>0.648</td>\n",
       "      <td>0.40</td>\n",
       "      <td>468.62</td>\n",
       "    </tr>\n",
       "    <tr>\n",
       "      <th>2</th>\n",
       "      <td>1310620001002</td>\n",
       "      <td>Solar do Barreiro : Corumbiara</td>\n",
       "      <td>Belo Horizonte (MG)</td>\n",
       "      <td>0.582</td>\n",
       "      <td>0.430</td>\n",
       "      <td>0.609</td>\n",
       "      <td>0.751</td>\n",
       "      <td>9.27</td>\n",
       "      <td>0.332</td>\n",
       "      <td>0.490</td>\n",
       "      <td>0.44</td>\n",
       "      <td>352.96</td>\n",
       "    </tr>\n",
       "    <tr>\n",
       "      <th>3</th>\n",
       "      <td>1310620001003</td>\n",
       "      <td>Bonsucesso : Novo das Indústrias / São João</td>\n",
       "      <td>Belo Horizonte (MG)</td>\n",
       "      <td>0.529</td>\n",
       "      <td>0.358</td>\n",
       "      <td>0.570</td>\n",
       "      <td>0.725</td>\n",
       "      <td>7.95</td>\n",
       "      <td>0.230</td>\n",
       "      <td>0.447</td>\n",
       "      <td>0.41</td>\n",
       "      <td>276.83</td>\n",
       "    </tr>\n",
       "    <tr>\n",
       "      <th>4</th>\n",
       "      <td>1310620001004</td>\n",
       "      <td>Vila Olhos d'Água</td>\n",
       "      <td>Belo Horizonte (MG)</td>\n",
       "      <td>0.531</td>\n",
       "      <td>0.390</td>\n",
       "      <td>0.553</td>\n",
       "      <td>0.693</td>\n",
       "      <td>8.55</td>\n",
       "      <td>0.280</td>\n",
       "      <td>0.461</td>\n",
       "      <td>0.40</td>\n",
       "      <td>250.12</td>\n",
       "    </tr>\n",
       "  </tbody>\n",
       "</table>\n",
       "</div>"
      ],
      "text/plain": [
       "          Cod_ID                                     NOME_UDH  \\\n",
       "0  1310500000001                                       Baldim   \n",
       "1  1310620001001                             Lindéia / Jatobá   \n",
       "2  1310620001002               Solar do Barreiro : Corumbiara   \n",
       "3  1310620001003  Bonsucesso : Novo das Indústrias / São João   \n",
       "4  1310620001004                            Vila Olhos d'Água   \n",
       "\n",
       "              NOME_MUN   IDHM  IDHM_E  IDHM_R  IDHM_L  E_ANOSESTUDO  \\\n",
       "0          Baldim (MG)  0.592   0.459   0.591   0.766          9.69   \n",
       "1  Belo Horizonte (MG)  0.664   0.565   0.654   0.791         10.48   \n",
       "2  Belo Horizonte (MG)  0.582   0.430   0.609   0.751          9.27   \n",
       "3  Belo Horizonte (MG)  0.529   0.358   0.570   0.725          7.95   \n",
       "4  Belo Horizonte (MG)  0.531   0.390   0.553   0.693          8.55   \n",
       "\n",
       "   I_ESCOLARIDADE  I_FREQ_PROP  GINI    RDPC  \n",
       "0           0.277        0.591  0.52  316.74  \n",
       "1           0.430        0.648  0.40  468.62  \n",
       "2           0.332        0.490  0.44  352.96  \n",
       "3           0.230        0.447  0.41  276.83  \n",
       "4           0.280        0.461  0.40  250.12  "
      ]
     },
     "execution_count": 53,
     "metadata": {},
     "output_type": "execute_result"
    }
   ],
   "source": [
    "novo_df.head()"
   ]
  },
  {
   "cell_type": "code",
   "execution_count": 54,
   "id": "01eb1c7d",
   "metadata": {},
   "outputs": [
    {
     "data": {
      "application/vnd.microsoft.datawrangler.viewer.v0+json": {
       "columns": [
        {
         "name": "index",
         "rawType": "object",
         "type": "string"
        },
        {
         "name": "0",
         "rawType": "int64",
         "type": "integer"
        }
       ],
       "ref": "e29be05d-dd60-4d19-b87a-7d85734c768e",
       "rows": [
        [
         "Cod_ID",
         "0"
        ],
        [
         "NOME_UDH",
         "0"
        ],
        [
         "NOME_MUN",
         "0"
        ],
        [
         "IDHM",
         "0"
        ],
        [
         "IDHM_E",
         "0"
        ],
        [
         "IDHM_R",
         "0"
        ],
        [
         "IDHM_L",
         "0"
        ],
        [
         "E_ANOSESTUDO",
         "0"
        ],
        [
         "I_ESCOLARIDADE",
         "0"
        ],
        [
         "I_FREQ_PROP",
         "0"
        ],
        [
         "GINI",
         "0"
        ],
        [
         "RDPC",
         "0"
        ]
       ],
       "shape": {
        "columns": 1,
        "rows": 12
       }
      },
      "text/plain": [
       "Cod_ID            0\n",
       "NOME_UDH          0\n",
       "NOME_MUN          0\n",
       "IDHM              0\n",
       "IDHM_E            0\n",
       "IDHM_R            0\n",
       "IDHM_L            0\n",
       "E_ANOSESTUDO      0\n",
       "I_ESCOLARIDADE    0\n",
       "I_FREQ_PROP       0\n",
       "GINI              0\n",
       "RDPC              0\n",
       "dtype: int64"
      ]
     },
     "execution_count": 54,
     "metadata": {},
     "output_type": "execute_result"
    }
   ],
   "source": [
    "novo_df.isnull().sum()"
   ]
  },
  {
   "cell_type": "code",
   "execution_count": 55,
   "id": "9f10e2da",
   "metadata": {},
   "outputs": [
    {
     "data": {
      "application/vnd.microsoft.datawrangler.viewer.v0+json": {
       "columns": [
        {
         "name": "index",
         "rawType": "int64",
         "type": "integer"
        },
        {
         "name": "0",
         "rawType": "bool",
         "type": "boolean"
        }
       ],
       "ref": "91c50b7d-d922-46af-bdce-08856508cdff",
       "rows": [
        [
         "0",
         "False"
        ],
        [
         "1",
         "False"
        ],
        [
         "2",
         "False"
        ],
        [
         "3",
         "False"
        ],
        [
         "4",
         "False"
        ],
        [
         "5",
         "False"
        ],
        [
         "6",
         "False"
        ],
        [
         "7",
         "False"
        ],
        [
         "8",
         "False"
        ],
        [
         "9",
         "False"
        ],
        [
         "10",
         "False"
        ],
        [
         "11",
         "False"
        ],
        [
         "12",
         "False"
        ],
        [
         "13",
         "False"
        ],
        [
         "14",
         "False"
        ],
        [
         "15",
         "False"
        ],
        [
         "16",
         "False"
        ],
        [
         "17",
         "False"
        ],
        [
         "18",
         "False"
        ],
        [
         "19",
         "False"
        ],
        [
         "20",
         "False"
        ],
        [
         "21",
         "False"
        ],
        [
         "22",
         "False"
        ],
        [
         "23",
         "False"
        ],
        [
         "24",
         "False"
        ],
        [
         "25",
         "False"
        ],
        [
         "26",
         "False"
        ],
        [
         "27",
         "False"
        ],
        [
         "28",
         "False"
        ],
        [
         "29",
         "False"
        ],
        [
         "30",
         "False"
        ],
        [
         "31",
         "False"
        ],
        [
         "32",
         "False"
        ],
        [
         "33",
         "False"
        ],
        [
         "34",
         "False"
        ],
        [
         "35",
         "False"
        ],
        [
         "36",
         "False"
        ],
        [
         "37",
         "False"
        ],
        [
         "38",
         "False"
        ],
        [
         "39",
         "False"
        ],
        [
         "40",
         "False"
        ],
        [
         "41",
         "False"
        ],
        [
         "42",
         "False"
        ],
        [
         "43",
         "False"
        ],
        [
         "44",
         "False"
        ],
        [
         "45",
         "False"
        ],
        [
         "46",
         "False"
        ],
        [
         "47",
         "False"
        ],
        [
         "48",
         "False"
        ],
        [
         "49",
         "False"
        ]
       ],
       "shape": {
        "columns": 1,
        "rows": 1246
       }
      },
      "text/plain": [
       "0       False\n",
       "1       False\n",
       "2       False\n",
       "3       False\n",
       "4       False\n",
       "        ...  \n",
       "1241    False\n",
       "1242    False\n",
       "1243    False\n",
       "1244    False\n",
       "1245    False\n",
       "Length: 1246, dtype: bool"
      ]
     },
     "execution_count": 55,
     "metadata": {},
     "output_type": "execute_result"
    }
   ],
   "source": [
    "df.duplicated().sum()\n",
    "df.duplicated()"
   ]
  },
  {
   "cell_type": "code",
   "execution_count": 56,
   "id": "b69f7762",
   "metadata": {},
   "outputs": [
    {
     "data": {
      "application/vnd.microsoft.datawrangler.viewer.v0+json": {
       "columns": [
        {
         "name": "index",
         "rawType": "int64",
         "type": "integer"
        },
        {
         "name": "Cod_ID",
         "rawType": "int64",
         "type": "integer"
        },
        {
         "name": "NOME_UDH",
         "rawType": "object",
         "type": "string"
        },
        {
         "name": "NOME_MUN",
         "rawType": "object",
         "type": "string"
        },
        {
         "name": "IDHM",
         "rawType": "float64",
         "type": "float"
        },
        {
         "name": "IDHM_E",
         "rawType": "float64",
         "type": "float"
        },
        {
         "name": "IDHM_R",
         "rawType": "float64",
         "type": "float"
        },
        {
         "name": "IDHM_L",
         "rawType": "float64",
         "type": "float"
        },
        {
         "name": "E_ANOSESTUDO",
         "rawType": "float64",
         "type": "float"
        },
        {
         "name": "I_ESCOLARIDADE",
         "rawType": "float64",
         "type": "float"
        },
        {
         "name": "I_FREQ_PROP",
         "rawType": "float64",
         "type": "float"
        },
        {
         "name": "GINI",
         "rawType": "float64",
         "type": "float"
        },
        {
         "name": "RDPC",
         "rawType": "float64",
         "type": "float"
        }
       ],
       "ref": "8eb49117-b8a4-43ff-8585-39e73c172d61",
       "rows": [
        [
         "0",
         "1310500000001",
         "Baldim",
         "Baldim (MG)",
         "0.592",
         "0.459",
         "0.591",
         "0.766",
         "9.69",
         "0.277",
         "0.591",
         "0.52",
         "316.74"
        ],
        [
         "1",
         "1310620001001",
         "Lindéia / Jatobá",
         "Belo Horizonte (MG)",
         "0.664",
         "0.565",
         "0.654",
         "0.791",
         "10.48",
         "0.43",
         "0.648",
         "0.4",
         "468.62"
        ],
        [
         "2",
         "1310620001002",
         "Solar do Barreiro : Corumbiara",
         "Belo Horizonte (MG)",
         "0.582",
         "0.43",
         "0.609",
         "0.751",
         "9.27",
         "0.332",
         "0.49",
         "0.44",
         "352.96"
        ],
        [
         "3",
         "1310620001003",
         "Bonsucesso : Novo das Indústrias / São João",
         "Belo Horizonte (MG)",
         "0.529",
         "0.358",
         "0.57",
         "0.725",
         "7.95",
         "0.23",
         "0.447",
         "0.41",
         "276.83"
        ],
        [
         "4",
         "1310620001004",
         "Vila Olhos d'Água",
         "Belo Horizonte (MG)",
         "0.531",
         "0.39",
         "0.553",
         "0.693",
         "8.55",
         "0.28",
         "0.461",
         "0.4",
         "250.12"
        ],
        [
         "5",
         "1310620001005",
         "Vila Pilar",
         "Belo Horizonte (MG)",
         "0.531",
         "0.39",
         "0.553",
         "0.693",
         "8.55",
         "0.28",
         "0.461",
         "0.4",
         "250.12"
        ],
        [
         "6",
         "1310620001006",
         "Vila Nova dos Milionários",
         "Belo Horizonte (MG)",
         null,
         null,
         null,
         null,
         null,
         null,
         null,
         null,
         null
        ],
        [
         "7",
         "1310620001007",
         "Vila Átila de Paiva",
         "Belo Horizonte (MG)",
         "0.529",
         "0.358",
         "0.57",
         "0.725",
         "7.95",
         "0.23",
         "0.447",
         "0.41",
         "276.83"
        ],
        [
         "8",
         "1310620001008",
         "CDI Jatobá : Conjunto Jatobá Especial / Vila Batik",
         "Belo Horizonte (MG)",
         "0.531",
         "0.39",
         "0.553",
         "0.693",
         "8.55",
         "0.28",
         "0.461",
         "0.4",
         "250.12"
        ],
        [
         "9",
         "1310620001012",
         "Petrópolis / Vila Petrópolis Especial",
         "Belo Horizonte (MG)",
         "0.546",
         "0.384",
         "0.585",
         "0.726",
         "9.62",
         "0.28",
         "0.449",
         "0.43",
         "305.0"
        ],
        [
         "10",
         "1310620001013",
         "Itaipu : Vila Piratininga Especial",
         "Belo Horizonte (MG)",
         "0.517",
         "0.354",
         "0.559",
         "0.699",
         "8.31",
         "0.217",
         "0.453",
         "0.39",
         "258.74"
        ],
        [
         "11",
         "1310620001014",
         "Vila Ecológica Águas Claras / Distrito Industrial do Jatobá / Vila Pinho",
         "Belo Horizonte (MG)",
         "0.57",
         "0.436",
         "0.587",
         "0.723",
         "9.79",
         "0.312",
         "0.516",
         "0.42",
         "308.95"
        ],
        [
         "12",
         "1310620001015",
         "Vale do Jatobá : CDI Jatobá / Santa Cecilia Especial",
         "Belo Horizonte (MG)",
         "0.546",
         "0.384",
         "0.585",
         "0.726",
         "9.62",
         "0.28",
         "0.449",
         "0.43",
         "305.0"
        ],
        [
         "13",
         "1310620001016",
         "Mangueiras / Vila Mangueiras Especial",
         "Belo Horizonte (MG)",
         "0.546",
         "0.384",
         "0.585",
         "0.726",
         "9.62",
         "0.28",
         "0.449",
         "0.43",
         "305.0"
        ],
        [
         "14",
         "1310620001017",
         "Alta Tensão 1ª Seção Especial",
         "Belo Horizonte (MG)",
         "0.546",
         "0.384",
         "0.585",
         "0.726",
         "9.62",
         "0.28",
         "0.449",
         "0.43",
         "305.0"
        ],
        [
         "15",
         "1310620001019",
         "Brasil Industrial : Teixeira Dias / Santa Helena / Pongelupe",
         "Belo Horizonte (MG)",
         "0.702",
         "0.606",
         "0.7",
         "0.815",
         "10.3",
         "0.539",
         "0.642",
         "0.45",
         "624.84"
        ],
        [
         "16",
         "1310620001020",
         "Tirol : Átila de Paiva / Ademar Maldonado / João Paulo II",
         "Belo Horizonte (MG)",
         "0.753",
         "0.694",
         "0.741",
         "0.83",
         "11.02",
         "0.629",
         "0.729",
         "0.47",
         "802.98"
        ],
        [
         "17",
         "1310620001021",
         "Santa Margarida Especial",
         "Belo Horizonte (MG)",
         "0.692",
         "0.579",
         "0.702",
         "0.816",
         "10.01",
         "0.521",
         "0.611",
         "0.46",
         "630.0"
        ],
        [
         "18",
         "1310620001022",
         "Flávio Marques Lisboa : Serra do Curral / Solar do Barreiro",
         "Belo Horizonte (MG)",
         "0.66",
         "0.558",
         "0.652",
         "0.79",
         "10.28",
         "0.467",
         "0.61",
         "0.41",
         "462.99"
        ],
        [
         "19",
         "1310620001023",
         "Conjunto Jatobá : Olaria / Castanheira",
         "Belo Horizonte (MG)",
         "0.629",
         "0.502",
         "0.64",
         "0.775",
         "10.39",
         "0.428",
         "0.544",
         "0.42",
         "428.07"
        ],
        [
         "20",
         "1310620001024",
         "Serra do Curral : Miramar / Cardoso",
         "Belo Horizonte (MG)",
         "0.621",
         "0.499",
         "0.628",
         "0.766",
         "10.13",
         "0.382",
         "0.571",
         "0.45",
         "398.02"
        ],
        [
         "21",
         "1310620001025",
         "Independência / Mineirão",
         "Belo Horizonte (MG)",
         "0.572",
         "0.429",
         "0.592",
         "0.737",
         "9.99",
         "0.307",
         "0.507",
         "0.39",
         "318.1"
        ],
        [
         "22",
         "1310620001026",
         "Itaipu : Corumbiara / Solar do Barreiro Especial",
         "Belo Horizonte (MG)",
         "0.586",
         "0.45",
         "0.599",
         "0.745",
         "10.06",
         "0.326",
         "0.529",
         "0.41",
         "332.83"
        ],
        [
         "23",
         "1310620001027",
         "Olaria / Castanheira",
         "Belo Horizonte (MG)",
         "0.621",
         "0.499",
         "0.628",
         "0.766",
         "10.13",
         "0.382",
         "0.571",
         "0.45",
         "398.02"
        ],
        [
         "24",
         "1310620001028",
         "Novo das Indústrias I / Milionários",
         "Belo Horizonte (MG)",
         "0.669",
         "0.561",
         "0.669",
         "0.798",
         "9.92",
         "0.482",
         "0.605",
         "0.41",
         "514.55"
        ],
        [
         "25",
         "1310620001029",
         "Diamante : Petrópolis / Vila Petrópolis Especial",
         "Belo Horizonte (MG)",
         "0.688",
         "0.595",
         "0.68",
         "0.805",
         "10.58",
         "0.514",
         "0.64",
         "0.41",
         "551.86"
        ],
        [
         "26",
         "1310620001030",
         "Barreiro de Baixo / Teixeira Dias",
         "Belo Horizonte (MG)",
         "0.834",
         "0.77",
         "0.874",
         "0.862",
         "10.84",
         "0.808",
         "0.751",
         "0.51",
         "1836.65"
        ],
        [
         "27",
         "1310620001031",
         "Santa Helena : Milionários / Teixeira Dias",
         "Belo Horizonte (MG)",
         "0.747",
         "0.689",
         "0.732",
         "0.825",
         "11.05",
         "0.629",
         "0.721",
         "0.43",
         "761.43"
        ],
        [
         "28",
         "1310620002001",
         "Cidade Jardim / Santa Lúcia / São Bento",
         "Belo Horizonte (MG)",
         "0.909",
         "0.858",
         "0.997",
         "0.878",
         "11.24",
         "0.903",
         "0.837",
         "0.5",
         "3953.43"
        ],
        [
         "29",
         "1310620002002",
         "Savassi : Boa Viagem / Funcionários",
         "Belo Horizonte (MG)",
         "0.916",
         "0.874",
         "1.0",
         "0.879",
         "11.05",
         "0.9",
         "0.862",
         "0.46",
         "4230.07"
        ],
        [
         "30",
         "1310620002003",
         "Barro Preto / Centro / Santa Efigênia",
         "Belo Horizonte (MG)",
         "0.869",
         "0.827",
         "0.917",
         "0.864",
         "11.11",
         "0.853",
         "0.815",
         "0.46",
         "2406.2"
        ],
        [
         "31",
         "1310620002004",
         "Santo Antônio / São Pedro",
         "Belo Horizonte (MG)",
         "0.909",
         "0.888",
         "0.973",
         "0.87",
         "11.41",
         "0.922",
         "0.872",
         "0.43",
         "3412.36"
        ],
        [
         "32",
         "1310620002005",
         "Novo São Lucas / Serra",
         "Belo Horizonte (MG)",
         "0.896",
         "0.852",
         "0.972",
         "0.869",
         "11.23",
         "0.882",
         "0.837",
         "0.49",
         "3392.76"
        ],
        [
         "33",
         "1310620002006",
         "Acaba Mundo",
         "Belo Horizonte (MG)",
         "0.531",
         "0.39",
         "0.553",
         "0.693",
         "8.55",
         "0.28",
         "0.461",
         "0.4",
         "250.12"
        ],
        [
         "34",
         "1310620002007",
         "Conjunto Santa Maria : Monte São José",
         "Belo Horizonte (MG)",
         "0.582",
         "0.43",
         "0.609",
         "0.751",
         "9.27",
         "0.332",
         "0.49",
         "0.44",
         "352.96"
        ],
        [
         "35",
         "1310620002008",
         "Monte São José : Vila Bandeirantes / Conjunto Santa Maria",
         "Belo Horizonte (MG)",
         "0.582",
         "0.43",
         "0.609",
         "0.751",
         "9.27",
         "0.332",
         "0.49",
         "0.44",
         "352.96"
        ],
        [
         "36",
         "1310620002009",
         "Santa Rita de Cássia : Aglomerado Barragem Santa Lúcia",
         "Belo Horizonte (MG)",
         "0.582",
         "0.43",
         "0.609",
         "0.751",
         "9.27",
         "0.332",
         "0.49",
         "0.44",
         "352.96"
        ],
        [
         "37",
         "1310620002011",
         "Santana do Cafezal : Aglomerado da Serra",
         "Belo Horizonte (MG)",
         "0.515",
         "0.332",
         "0.577",
         "0.714",
         "8.56",
         "0.216",
         "0.412",
         "0.44",
         "289.78"
        ],
        [
         "38",
         "1310620002014",
         "Carmo / Sion",
         "Belo Horizonte (MG)",
         "0.905",
         "0.863",
         "0.984",
         "0.874",
         "11.08",
         "0.898",
         "0.846",
         "0.4",
         "3648.99"
        ],
        [
         "39",
         "1310620002015",
         "Cruzeiro / Comiteco",
         "Belo Horizonte (MG)",
         "0.913",
         "0.865",
         "1.0",
         "0.879",
         "11.04",
         "0.905",
         "0.845",
         "0.5",
         "4553.54"
        ],
        [
         "40",
         "1310620002016",
         "Santo Agostinho / Lourdes",
         "Belo Horizonte (MG)",
         "0.922",
         "0.891",
         "1.0",
         "0.88",
         "11.21",
         "0.9",
         "0.887",
         "0.49",
         "4970.87"
        ],
        [
         "41",
         "1310620002017",
         "Belvedere",
         "Belo Horizonte (MG)",
         "0.913",
         "0.865",
         "1.0",
         "0.879",
         "11.04",
         "0.905",
         "0.845",
         "0.5",
         "4553.54"
        ],
        [
         "42",
         "1310620002018",
         "Mangabeiras / Parque das Mangabeiras",
         "Belo Horizonte (MG)",
         "0.913",
         "0.865",
         "1.0",
         "0.879",
         "11.04",
         "0.905",
         "0.845",
         "0.5",
         "4553.54"
        ],
        [
         "43",
         "1310620003047",
         "Floresta / Santa Tereza",
         "Belo Horizonte (MG)",
         "0.833",
         "0.778",
         "0.864",
         "0.86",
         "10.58",
         "0.808",
         "0.764",
         "0.47",
         "1727.65"
        ],
        [
         "44",
         "1310620003048",
         "Sagrada Família / Horto Florestal / Santa Inês",
         "Belo Horizonte (MG)",
         "0.818",
         "0.77",
         "0.831",
         "0.855",
         "11.14",
         "0.754",
         "0.778",
         "0.47",
         "1405.83"
        ],
        [
         "45",
         "1310620003049",
         "Vila Nossa Senhora do Rosário",
         "Belo Horizonte (MG)",
         "0.652",
         "0.518",
         "0.67",
         "0.798",
         "10.37",
         "0.397",
         "0.592",
         "0.52",
         "515.85"
        ],
        [
         "46",
         "1310620003050",
         "João Alfredo",
         "Belo Horizonte (MG)",
         "0.606",
         "0.46",
         "0.631",
         "0.768",
         "9.44",
         "0.341",
         "0.534",
         "0.48",
         "405.81"
        ],
        [
         "47",
         "1310620003051",
         "Boa Vista",
         "Belo Horizonte (MG)",
         "0.684",
         "0.582",
         "0.681",
         "0.807",
         "10.64",
         "0.488",
         "0.636",
         "0.45",
         "555.55"
        ],
        [
         "48",
         "1310620003052",
         "Cônego Pinheiro 1ª Seção Especial",
         "Belo Horizonte (MG)",
         "0.649",
         "0.516",
         "0.666",
         "0.796",
         "10.22",
         "0.44",
         "0.559",
         "0.48",
         "504.36"
        ],
        [
         "49",
         "1310620003053",
         "Alto Vera Cruz",
         "Belo Horizonte (MG)",
         "0.581",
         "0.416",
         "0.618",
         "0.763",
         "9.3",
         "0.334",
         "0.465",
         "0.45",
         "373.35"
        ]
       ],
       "shape": {
        "columns": 12,
        "rows": 1246
       }
      },
      "text/html": [
       "<div>\n",
       "<style scoped>\n",
       "    .dataframe tbody tr th:only-of-type {\n",
       "        vertical-align: middle;\n",
       "    }\n",
       "\n",
       "    .dataframe tbody tr th {\n",
       "        vertical-align: top;\n",
       "    }\n",
       "\n",
       "    .dataframe thead th {\n",
       "        text-align: right;\n",
       "    }\n",
       "</style>\n",
       "<table border=\"1\" class=\"dataframe\">\n",
       "  <thead>\n",
       "    <tr style=\"text-align: right;\">\n",
       "      <th></th>\n",
       "      <th>Cod_ID</th>\n",
       "      <th>NOME_UDH</th>\n",
       "      <th>NOME_MUN</th>\n",
       "      <th>IDHM</th>\n",
       "      <th>IDHM_E</th>\n",
       "      <th>IDHM_R</th>\n",
       "      <th>IDHM_L</th>\n",
       "      <th>E_ANOSESTUDO</th>\n",
       "      <th>I_ESCOLARIDADE</th>\n",
       "      <th>I_FREQ_PROP</th>\n",
       "      <th>GINI</th>\n",
       "      <th>RDPC</th>\n",
       "    </tr>\n",
       "  </thead>\n",
       "  <tbody>\n",
       "    <tr>\n",
       "      <th>0</th>\n",
       "      <td>1310500000001</td>\n",
       "      <td>Baldim</td>\n",
       "      <td>Baldim (MG)</td>\n",
       "      <td>0.592</td>\n",
       "      <td>0.459</td>\n",
       "      <td>0.591</td>\n",
       "      <td>0.766</td>\n",
       "      <td>9.69</td>\n",
       "      <td>0.277</td>\n",
       "      <td>0.591</td>\n",
       "      <td>0.52</td>\n",
       "      <td>316.74</td>\n",
       "    </tr>\n",
       "    <tr>\n",
       "      <th>1</th>\n",
       "      <td>1310620001001</td>\n",
       "      <td>Lindéia / Jatobá</td>\n",
       "      <td>Belo Horizonte (MG)</td>\n",
       "      <td>0.664</td>\n",
       "      <td>0.565</td>\n",
       "      <td>0.654</td>\n",
       "      <td>0.791</td>\n",
       "      <td>10.48</td>\n",
       "      <td>0.430</td>\n",
       "      <td>0.648</td>\n",
       "      <td>0.40</td>\n",
       "      <td>468.62</td>\n",
       "    </tr>\n",
       "    <tr>\n",
       "      <th>2</th>\n",
       "      <td>1310620001002</td>\n",
       "      <td>Solar do Barreiro : Corumbiara</td>\n",
       "      <td>Belo Horizonte (MG)</td>\n",
       "      <td>0.582</td>\n",
       "      <td>0.430</td>\n",
       "      <td>0.609</td>\n",
       "      <td>0.751</td>\n",
       "      <td>9.27</td>\n",
       "      <td>0.332</td>\n",
       "      <td>0.490</td>\n",
       "      <td>0.44</td>\n",
       "      <td>352.96</td>\n",
       "    </tr>\n",
       "    <tr>\n",
       "      <th>3</th>\n",
       "      <td>1310620001003</td>\n",
       "      <td>Bonsucesso : Novo das Indústrias / São João</td>\n",
       "      <td>Belo Horizonte (MG)</td>\n",
       "      <td>0.529</td>\n",
       "      <td>0.358</td>\n",
       "      <td>0.570</td>\n",
       "      <td>0.725</td>\n",
       "      <td>7.95</td>\n",
       "      <td>0.230</td>\n",
       "      <td>0.447</td>\n",
       "      <td>0.41</td>\n",
       "      <td>276.83</td>\n",
       "    </tr>\n",
       "    <tr>\n",
       "      <th>4</th>\n",
       "      <td>1310620001004</td>\n",
       "      <td>Vila Olhos d'Água</td>\n",
       "      <td>Belo Horizonte (MG)</td>\n",
       "      <td>0.531</td>\n",
       "      <td>0.390</td>\n",
       "      <td>0.553</td>\n",
       "      <td>0.693</td>\n",
       "      <td>8.55</td>\n",
       "      <td>0.280</td>\n",
       "      <td>0.461</td>\n",
       "      <td>0.40</td>\n",
       "      <td>250.12</td>\n",
       "    </tr>\n",
       "    <tr>\n",
       "      <th>...</th>\n",
       "      <td>...</td>\n",
       "      <td>...</td>\n",
       "      <td>...</td>\n",
       "      <td>...</td>\n",
       "      <td>...</td>\n",
       "      <td>...</td>\n",
       "      <td>...</td>\n",
       "      <td>...</td>\n",
       "      <td>...</td>\n",
       "      <td>...</td>\n",
       "      <td>...</td>\n",
       "      <td>...</td>\n",
       "    </tr>\n",
       "    <tr>\n",
       "      <th>1241</th>\n",
       "      <td>1317120401008</td>\n",
       "      <td>Célvia : Célvia / Fagundes</td>\n",
       "      <td>Vespasiano (MG)</td>\n",
       "      <td>0.712</td>\n",
       "      <td>0.643</td>\n",
       "      <td>0.679</td>\n",
       "      <td>0.826</td>\n",
       "      <td>9.03</td>\n",
       "      <td>0.513</td>\n",
       "      <td>0.720</td>\n",
       "      <td>0.37</td>\n",
       "      <td>548.57</td>\n",
       "    </tr>\n",
       "    <tr>\n",
       "      <th>1242</th>\n",
       "      <td>1317120401009</td>\n",
       "      <td>Vespasiano : Bela Vista / Alphaville / Angicos</td>\n",
       "      <td>Vespasiano (MG)</td>\n",
       "      <td>0.721</td>\n",
       "      <td>0.631</td>\n",
       "      <td>0.711</td>\n",
       "      <td>0.836</td>\n",
       "      <td>8.35</td>\n",
       "      <td>0.569</td>\n",
       "      <td>0.664</td>\n",
       "      <td>0.42</td>\n",
       "      <td>667.09</td>\n",
       "    </tr>\n",
       "    <tr>\n",
       "      <th>1243</th>\n",
       "      <td>1317120401010</td>\n",
       "      <td>Novo Horizonte : Bom Sucesso / Santa Clara / C...</td>\n",
       "      <td>Vespasiano (MG)</td>\n",
       "      <td>0.632</td>\n",
       "      <td>0.542</td>\n",
       "      <td>0.624</td>\n",
       "      <td>0.746</td>\n",
       "      <td>8.15</td>\n",
       "      <td>0.391</td>\n",
       "      <td>0.638</td>\n",
       "      <td>0.37</td>\n",
       "      <td>387.40</td>\n",
       "    </tr>\n",
       "    <tr>\n",
       "      <th>1244</th>\n",
       "      <td>1317120401011</td>\n",
       "      <td>Nova Cachoeira : Jardim Encantado / Cipriano</td>\n",
       "      <td>Vespasiano (MG)</td>\n",
       "      <td>0.721</td>\n",
       "      <td>0.631</td>\n",
       "      <td>0.711</td>\n",
       "      <td>0.836</td>\n",
       "      <td>8.35</td>\n",
       "      <td>0.569</td>\n",
       "      <td>0.664</td>\n",
       "      <td>0.42</td>\n",
       "      <td>667.09</td>\n",
       "    </tr>\n",
       "    <tr>\n",
       "      <th>1245</th>\n",
       "      <td>1317120401012</td>\n",
       "      <td>Areias : Ribeirão das Areias / Bairro Aparecid...</td>\n",
       "      <td>Vespasiano (MG)</td>\n",
       "      <td>0.639</td>\n",
       "      <td>0.529</td>\n",
       "      <td>0.638</td>\n",
       "      <td>0.772</td>\n",
       "      <td>7.81</td>\n",
       "      <td>0.388</td>\n",
       "      <td>0.617</td>\n",
       "      <td>0.37</td>\n",
       "      <td>424.03</td>\n",
       "    </tr>\n",
       "  </tbody>\n",
       "</table>\n",
       "<p>1246 rows × 12 columns</p>\n",
       "</div>"
      ],
      "text/plain": [
       "             Cod_ID                                           NOME_UDH  \\\n",
       "0     1310500000001                                             Baldim   \n",
       "1     1310620001001                                   Lindéia / Jatobá   \n",
       "2     1310620001002                     Solar do Barreiro : Corumbiara   \n",
       "3     1310620001003        Bonsucesso : Novo das Indústrias / São João   \n",
       "4     1310620001004                                  Vila Olhos d'Água   \n",
       "...             ...                                                ...   \n",
       "1241  1317120401008                         Célvia : Célvia / Fagundes   \n",
       "1242  1317120401009     Vespasiano : Bela Vista / Alphaville / Angicos   \n",
       "1243  1317120401010  Novo Horizonte : Bom Sucesso / Santa Clara / C...   \n",
       "1244  1317120401011       Nova Cachoeira : Jardim Encantado / Cipriano   \n",
       "1245  1317120401012  Areias : Ribeirão das Areias / Bairro Aparecid...   \n",
       "\n",
       "                 NOME_MUN   IDHM  IDHM_E  IDHM_R  IDHM_L  E_ANOSESTUDO  \\\n",
       "0             Baldim (MG)  0.592   0.459   0.591   0.766          9.69   \n",
       "1     Belo Horizonte (MG)  0.664   0.565   0.654   0.791         10.48   \n",
       "2     Belo Horizonte (MG)  0.582   0.430   0.609   0.751          9.27   \n",
       "3     Belo Horizonte (MG)  0.529   0.358   0.570   0.725          7.95   \n",
       "4     Belo Horizonte (MG)  0.531   0.390   0.553   0.693          8.55   \n",
       "...                   ...    ...     ...     ...     ...           ...   \n",
       "1241      Vespasiano (MG)  0.712   0.643   0.679   0.826          9.03   \n",
       "1242      Vespasiano (MG)  0.721   0.631   0.711   0.836          8.35   \n",
       "1243      Vespasiano (MG)  0.632   0.542   0.624   0.746          8.15   \n",
       "1244      Vespasiano (MG)  0.721   0.631   0.711   0.836          8.35   \n",
       "1245      Vespasiano (MG)  0.639   0.529   0.638   0.772          7.81   \n",
       "\n",
       "      I_ESCOLARIDADE  I_FREQ_PROP  GINI    RDPC  \n",
       "0              0.277        0.591  0.52  316.74  \n",
       "1              0.430        0.648  0.40  468.62  \n",
       "2              0.332        0.490  0.44  352.96  \n",
       "3              0.230        0.447  0.41  276.83  \n",
       "4              0.280        0.461  0.40  250.12  \n",
       "...              ...          ...   ...     ...  \n",
       "1241           0.513        0.720  0.37  548.57  \n",
       "1242           0.569        0.664  0.42  667.09  \n",
       "1243           0.391        0.638  0.37  387.40  \n",
       "1244           0.569        0.664  0.42  667.09  \n",
       "1245           0.388        0.617  0.37  424.03  \n",
       "\n",
       "[1246 rows x 12 columns]"
      ]
     },
     "execution_count": 56,
     "metadata": {},
     "output_type": "execute_result"
    }
   ],
   "source": [
    "\n",
    "df.drop_duplicates()\n",
    "\n"
   ]
  },
  {
   "cell_type": "code",
   "execution_count": 57,
   "id": "b7113dfb",
   "metadata": {},
   "outputs": [],
   "source": [
    "novo_df.to_csv(\"/home/alencaravelar/Desktop/zetta-lab/zetta-lab/data/refined/base_udh_refined.csv\")"
   ]
  }
 ],
 "metadata": {
  "kernelspec": {
   "display_name": "base",
   "language": "python",
   "name": "python3"
  },
  "language_info": {
   "codemirror_mode": {
    "name": "ipython",
    "version": 3
   },
   "file_extension": ".py",
   "mimetype": "text/x-python",
   "name": "python",
   "nbconvert_exporter": "python",
   "pygments_lexer": "ipython3",
   "version": "3.13.5"
  }
 },
 "nbformat": 4,
 "nbformat_minor": 5
}

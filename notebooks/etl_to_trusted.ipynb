{
 "cells": [
  {
   "cell_type": "markdown",
   "id": "a5cfd2b1",
   "metadata": {},
   "source": [
    "# Após exploração da base de dados, começarei o processo de pré-processamento, como já tenho definido os atributos que utilizarei para a análise começarei por descartar os que não serão utilizados e posteriormente farei o tratamento desses dados.\n"
   ]
  },
  {
   "cell_type": "markdown",
   "id": "1d498b75",
   "metadata": {},
   "source": [
    "# Variáveis mantidas: \n",
    "🔹 Desenvolvimento Humano\n",
    "Indicador\tDescrição provável\n",
    "IDHM\tÍndice de Desenvolvimento Humano Municipal\n",
    "IDHM_E\tComponente Educação do IDHM\n",
    "IDHM_R\tComponente Renda do IDHM\n",
    "IDHM_L\tComponente Longevidade do IDHM\n",
    "🔹 Educação\n",
    "Indicador\tDescrição provável\n",
    "E_ANOSESTUDO\tMédia de anos de estudo da população\n",
    "I_ESCOLARIDADE\tÍndice de escolaridade\n",
    "I_FREQ_PROP\tÍndice de frequência escolar proporcional\n",
    "🔹 Renda\n",
    "Indicador\tDescrição provável\n",
    "GINI\tÍndice de Gini (medida de desigualdade de renda)\n",
    "CPR\tRenda per capita (Código Atlas: CPR - provavelmente “Renda per capita média”)\n",
    "### 🔹 Identificação Geográfica\n",
    "- Código da unidade (`Cod_ID`)\n",
    "- Nome da UDH (`NOME_UDH`)\n",
    "- Município (`NOME_MUN`)"
   ]
  },
  {
   "cell_type": "code",
   "execution_count": 2,
   "id": "d847c667",
   "metadata": {},
   "outputs": [],
   "source": [
    "import pandas as pd\n",
    "import os"
   ]
  },
  {
   "cell_type": "code",
   "execution_count": 11,
   "id": "a4839bc4",
   "metadata": {},
   "outputs": [
    {
     "name": "stdout",
     "output_type": "stream",
     "text": [
      "✅ Arquivo filtrado criado com sucesso!\n",
      "📄 Caminho: /home/alencaravelar/Desktop/zetta-lab/zetta-lab/data/trusted/base_udh_trusted.csv\n",
      "📊 Colunas mantidas: 12\n",
      "📊 Colunas mantidas: ['Cod_ID', 'NOME_UDH', 'NOME_MUN', 'IDHM', 'IDHM_E', 'IDHM_R', 'IDHM_L', 'E_ANOSESTUDO', 'I_ESCOLARIDADE', 'I_FREQ_PROP', 'GINI', 'CPR']\n",
      "❌ Colunas ausentes: 0\n",
      "❌ Colunas ausentes: []\n",
      "🔢 Total de registros: 1246\n"
     ]
    }
   ],
   "source": [
    "import pandas as pd\n",
    "import os\n",
    "\n",
    "# Caminho da base original \n",
    "path_raw = \"/home/alencaravelar/Desktop/zetta-lab/zetta-lab/data/raw/dados-bh.xls\"\n",
    "\n",
    "# Caminho de destino \n",
    "path_trusted = \"/home/alencaravelar/Desktop/zetta-lab/zetta-lab/data/trusted/base_udh_trusted.csv\"\n",
    "\n",
    "# Leitura da planilha principal\n",
    "df = pd.read_excel(path_raw, sheet_name=\"Sheet1\")\n",
    "\n",
    "# 🔹 Lista de variáveis que queremos manter\n",
    "cols_to_keep = [\n",
    "    # Identificação Geográfica\n",
    "    \"Cod_ID\", \"NOME_UDH\", \"NOME_MUN\",\n",
    "\n",
    "    #desenvolvimento humano \n",
    "    \"IDHM\", \"IDHM_E\", \"IDHM_R\", \"IDHM_L\", \n",
    "\n",
    "    # Educação\n",
    "    \"E_ANOSESTUDO\", \"I_ESCOLARIDADE\", \"I_FREQ_PROP\" ,\n",
    "\n",
    "    # Renda\n",
    "    \"GINI\", \"CPR\"\n",
    "]\n",
    "\n",
    "# 🔹 Verifica se todas as colunas existem\n",
    "existing_cols = [col for col in cols_to_keep if col in df.columns]\n",
    "missing_cols = [col for col in cols_to_keep if col not in df.columns]\n",
    "\n",
    "if missing_cols:\n",
    "    print(\"⚠️ As seguintes colunas não foram encontradas no dataset:\")\n",
    "    print(missing_cols)\n",
    "\n",
    "# 🔹 Mantém apenas as colunas encontradas\n",
    "df_filtered = df[existing_cols].copy()\n",
    "\n",
    "# 🔹 Salva o novo arquivo CSV\n",
    "df_filtered.to_csv(path_trusted, index=False, encoding=\"utf-8-sig\")\n",
    "\n",
    "print(\"✅ Arquivo filtrado criado com sucesso!\")\n",
    "print(f\"📄 Caminho: {path_trusted}\")\n",
    "print(f\"📊 Colunas mantidas: {len(existing_cols)}\")\n",
    "print(f\"📊 Colunas mantidas: {(existing_cols)}\")\n",
    "print(f\"❌ Colunas ausentes: {len(missing_cols)}\")\n",
    "print(f\"❌ Colunas ausentes: {(missing_cols)}\")\n",
    "print(f\"🔢 Total de registros: {len(df_filtered)}\")\n"
   ]
  }
 ],
 "metadata": {
  "kernelspec": {
   "display_name": "base",
   "language": "python",
   "name": "python3"
  },
  "language_info": {
   "codemirror_mode": {
    "name": "ipython",
    "version": 3
   },
   "file_extension": ".py",
   "mimetype": "text/x-python",
   "name": "python",
   "nbconvert_exporter": "python",
   "pygments_lexer": "ipython3",
   "version": "3.13.5"
  }
 },
 "nbformat": 4,
 "nbformat_minor": 5
}

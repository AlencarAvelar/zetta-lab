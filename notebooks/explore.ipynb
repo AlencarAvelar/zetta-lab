{
 "cells": [
  {
   "cell_type": "code",
   "execution_count": null,
   "id": "f2feb953-5084-4e73-9f7d-a39d3bbc787b",
   "metadata": {},
   "outputs": [],
   "source": [
    "import pandas as pd "
   ]
  },
  {
   "cell_type": "code",
   "execution_count": null,
   "id": "892fe392-a9d9-40da-8db5-647080ca77b8",
   "metadata": {},
   "outputs": [],
   "source": [
    "df = pd.read_exel() "
   ]
  }
 ],
 "metadata": {
  "kernelspec": {
   "display_name": "Python [conda env:base] *",
   "language": "python",
   "name": "conda-base-py"
  },
  "language_info": {
   "codemirror_mode": {
    "name": "ipython",
    "version": 3
   },
   "file_extension": ".py",
   "mimetype": "text/x-python",
   "name": "python",
   "nbconvert_exporter": "python",
   "pygments_lexer": "ipython3",
   "version": "3.13.5"
  }
 },
 "nbformat": 4,
 "nbformat_minor": 5
}
